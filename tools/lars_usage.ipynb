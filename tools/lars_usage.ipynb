{
 "cells": [
  {
   "cell_type": "code",
   "execution_count": 1,
   "id": "9e7a916d-b50c-43ad-a39f-d6547bc0b8ca",
   "metadata": {
    "tags": []
   },
   "outputs": [],
   "source": [
    "import numpy as np\n",
    "import pandas as pd\n",
    "import matplotlib.pyplot as plt"
   ]
  },
  {
   "cell_type": "code",
   "execution_count": 2,
   "id": "90358a59-745b-4a4c-8003-ef2629839626",
   "metadata": {
    "tags": []
   },
   "outputs": [],
   "source": [
    "import sklearn.datasets\n",
    "from sklearn.linear_model import LinearRegression"
   ]
  },
  {
   "cell_type": "code",
   "execution_count": 3,
   "id": "fb76887f-fed9-40f8-9305-2898bbda9ea9",
   "metadata": {
    "tags": []
   },
   "outputs": [],
   "source": [
    "def demean(arr: np.ndarray) -> np.ndarray:\n",
    "    return arr - arr.mean(axis=0)"
   ]
  },
  {
   "cell_type": "code",
   "execution_count": 4,
   "id": "04d34aa1-920e-4123-b8f0-a9f062493cb1",
   "metadata": {},
   "outputs": [],
   "source": [
    "def rescale(arr: np.ndarray) -> np.ndarray:\n",
    "    return arr/arr.std(axis=0)"
   ]
  },
  {
   "cell_type": "code",
   "execution_count": 5,
   "id": "91111265-f157-4094-9f4a-cfd08f514f5d",
   "metadata": {
    "tags": []
   },
   "outputs": [],
   "source": [
    "dataset = sklearn.datasets.load_diabetes()"
   ]
  },
  {
   "cell_type": "code",
   "execution_count": 6,
   "id": "ce03eaca-fb72-415b-aa7e-bfd8b6f50ea3",
   "metadata": {
    "tags": []
   },
   "outputs": [],
   "source": [
    "X,y = dataset.data, dataset.target"
   ]
  },
  {
   "cell_type": "code",
   "execution_count": 7,
   "id": "ad4db96b-5711-4f87-8ad7-1d6e0cfcb3c3",
   "metadata": {
    "tags": []
   },
   "outputs": [],
   "source": [
    "X = demean(X)\n",
    "X, y = rescale(X), rescale(y)"
   ]
  },
  {
   "cell_type": "code",
   "execution_count": 8,
   "id": "b6ec30eb-2b45-488a-99ff-9f31198d4afd",
   "metadata": {
    "tags": []
   },
   "outputs": [],
   "source": [
    "# X = np.column_stack([X, np.ones(X.shape[0])])"
   ]
  },
  {
   "cell_type": "code",
   "execution_count": 9,
   "id": "b1a351c2-5118-41cb-8519-4527bdd6d3c9",
   "metadata": {
    "tags": []
   },
   "outputs": [],
   "source": [
    "xtx, xty, yty = X.T@X, X.T@y, y.T@y"
   ]
  },
  {
   "cell_type": "markdown",
   "id": "21145c01-16c6-4710-bc4c-0e101a584d2b",
   "metadata": {},
   "source": [
    "# LARS XTX VARIANT"
   ]
  },
  {
   "cell_type": "code",
   "execution_count": 10,
   "id": "c9e06ee0-d8c8-4866-91a4-f15675ac1f48",
   "metadata": {
    "tags": []
   },
   "outputs": [],
   "source": [
    "def iterate_x_y_version(X,y,betas,active_mask):\n",
    "    current_pred = X@betas\n",
    "    current_residual = y - current_pred\n",
    "    current_corrs = X.T@current_residual\n",
    "    if sum(active_mask)==0:\n",
    "        active_idx = np.argmax(np.abs(current_corrs))\n",
    "        active_mask[active_idx] = True\n",
    "\n",
    "    # construct equi-angular vector\n",
    "    signed_X = X.copy()\n",
    "    signed_X[:, active_mask] *= np.sign(current_corrs[active_mask])\n",
    "    onesA = np.ones(active_mask.sum())\n",
    "    XA = signed_X[:,active_mask]\n",
    "    GA = XA.T@XA\n",
    "    GA_inv = np.linalg.inv(GA)\n",
    "    mixture_coeffs = GA_inv@onesA\n",
    "    vA = XA@mixture_coeffs\n",
    "    \n",
    "    \n",
    "    # find how much to move in that direction\n",
    "    if sum(active_mask) < len(betas):\n",
    "        temp_active_idx = np.argmax(active_mask)\n",
    "        max_id_corr = np.abs(current_corrs[temp_active_idx])\n",
    "        a = X.T@vA\n",
    "        left = (max_id_corr - current_corrs)/(1 - a)\n",
    "        right = (max_id_corr + current_corrs)/(1 + a)\n",
    "        left[active_mask] = np.inf\n",
    "        right[active_mask] = np.inf\n",
    "        left[left < 0] = np.inf\n",
    "        right[right < 0] = np.inf\n",
    "        min_left_right = np.minimum(left, right)\n",
    "        new_active_idx = np.argmin(min_left_right)\n",
    "        gamma = min_left_right[new_active_idx]\n",
    "    else:\n",
    "        gamma = current_residual.dot(vA)/(vA.dot(vA))\n",
    "        new_active_idx = -1\n",
    "    \n",
    "    # convert to additions to betas\n",
    "    delta_betas = mixture_coeffs*gamma\n",
    "    iter_deltas = iter(delta_betas)\n",
    "    expanded_deltas = np.zeros_like(betas)\n",
    "    for i,flag in enumerate(active_mask):\n",
    "        if flag:\n",
    "            next_delta = next(iter_deltas)\n",
    "            expanded_deltas[i] = next_delta * np.sign(current_corrs[i])\n",
    "    \n",
    "    return gamma, expanded_deltas, new_active_idx"
   ]
  },
  {
   "cell_type": "code",
   "execution_count": 11,
   "id": "673a09f9-7cdf-40aa-9839-002fd61801b9",
   "metadata": {
    "tags": []
   },
   "outputs": [],
   "source": [
    "def iterate_xtx_version(xtx, xty, betas, active_mask):\n",
    "    ids = np.arange(0,len(betas))\n",
    "    current_corrs = xty - xtx@betas\n",
    "    if sum(active_mask)==0:\n",
    "        active_idx = np.argmax(np.abs(current_corrs))\n",
    "        active_mask[active_idx] = True\n",
    "        \n",
    "    signFlip = np.diag([np.sign(current_corrs[idx]) for idx in ids[active_mask]])\n",
    "    sigmaA = signFlip@xtx[ids[active_mask],:][:,ids[active_mask]]@signFlip # weird way to index, but this keeps the desired shape\n",
    "    sigmaA_inv = np.linalg.inv(sigmaA)\n",
    "    mixing_coeffs = signFlip@sigmaA_inv@np.ones(sum(active_mask))\n",
    "    xtxequi = xtx[:, ids[active_mask]]@mixing_coeffs\n",
    "    \n",
    "    temp_active_idx = np.argmax(active_mask)\n",
    "    max_id_corr = np.abs(current_corrs[temp_active_idx])\n",
    "    \n",
    "    \n",
    "    if sum(active_mask) < len(betas):\n",
    "        left = (max_id_corr - current_corrs)/(1 - xtxequi)\n",
    "        right = (max_id_corr + current_corrs)/(1 + xtxequi)\n",
    "        left[active_mask] = np.inf\n",
    "        right[active_mask] = np.inf\n",
    "        left[left < 0] = np.inf\n",
    "        right[right < 0] = np.inf\n",
    "        min_left_right = np.minimum(left, right)\n",
    "        next_idx = np.argmin(min_left_right)\n",
    "        gamma = min_left_right[next_idx]\n",
    "    else:\n",
    "        projected_residuals = mixing_coeffs.T@(xty-xtx@betas)\n",
    "        gamma = projected_residuals/(mixing_coeffs.T@xtx@mixing_coeffs)\n",
    "        next_idx = -1\n",
    "    \n",
    "    delta_betas = np.zeros_like(betas)\n",
    "    delta_betas[active_mask] = gamma\n",
    "    delta_betas[active_mask] *= mixing_coeffs\n",
    "    \n",
    "    return gamma, delta_betas, next_idx"
   ]
  },
  {
   "cell_type": "markdown",
   "id": "5054154c-30ee-4342-94f4-ea7e9bbdbc51",
   "metadata": {},
   "source": [
    "### Regular OLS"
   ]
  },
  {
   "cell_type": "code",
   "execution_count": 12,
   "id": "94fdcdc8-7eb1-4c72-a355-88b1792e2900",
   "metadata": {
    "tags": []
   },
   "outputs": [
    {
     "data": {
      "text/plain": [
       "array([-0.00618293, -0.14813008,  0.32110005,  0.20036692, -0.48931352,\n",
       "        0.29447365,  0.06241272,  0.10936897,  0.46404908,  0.04177187])"
      ]
     },
     "execution_count": 12,
     "metadata": {},
     "output_type": "execute_result"
    }
   ],
   "source": [
    "lr = LinearRegression()\n",
    "res = lr.fit(X,y)\n",
    "res.coef_"
   ]
  },
  {
   "cell_type": "markdown",
   "id": "749098e4-36f9-4ae8-b55e-16871c1222f7",
   "metadata": {},
   "source": [
    "### LARS V1"
   ]
  },
  {
   "cell_type": "code",
   "execution_count": 16,
   "id": "f3060e53-1942-46a6-9405-67074b5b6d0c",
   "metadata": {
    "tags": []
   },
   "outputs": [
    {
     "name": "stdout",
     "output_type": "stream",
     "text": [
      "[0.     0.     0.0371 0.     0.     0.     0.     0.     0.     0.    ]\n",
      "[0.     0.     0.2235 0.     0.     0.     0.     0.     0.1864 0.    ]\n",
      "[0.     0.     0.2685 0.0489 0.     0.     0.     0.     0.2316 0.    ]\n",
      "[ 0.      0.      0.3123  0.1181  0.      0.     -0.0705  0.      0.2716\n",
      "  0.    ]\n",
      "[ 0.     -0.0463  0.3159  0.1446  0.      0.     -0.1048  0.      0.2784\n",
      "  0.    ]\n",
      "[ 0.     -0.0692  0.3163  0.156   0.      0.     -0.1211  0.      0.2794\n",
      "  0.0075]\n",
      "[ 0.     -0.1221  0.3226  0.1835 -0.0642  0.     -0.1383  0.      0.318\n",
      "  0.0338]\n",
      "[ 0.     -0.1397  0.3255  0.1942 -0.1205  0.     -0.0942  0.0657  0.3273\n",
      "  0.0398]\n",
      "[ 0.     -0.1403  0.3251  0.1945 -0.1467  0.0208 -0.0831  0.0688  0.337\n",
      "  0.0399]\n",
      "[-0.0062 -0.1481  0.3211  0.2004 -0.4893  0.2945  0.0624  0.1094  0.464\n",
      "  0.0418]\n"
     ]
    },
    {
     "name": "stderr",
     "output_type": "stream",
     "text": [
      "/var/folders/bf/_8fqhw492vgbwd129z6vqb800000gn/T/ipykernel_5151/2811963989.py:25: RuntimeWarning: divide by zero encountered in divide\n",
      "  left = (max_id_corr - current_corrs)/(1 - a)\n",
      "/var/folders/bf/_8fqhw492vgbwd129z6vqb800000gn/T/ipykernel_5151/2811963989.py:26: RuntimeWarning: invalid value encountered in divide\n",
      "  right = (max_id_corr + current_corrs)/(1 + a)\n"
     ]
    }
   ],
   "source": [
    "betas = np.zeros(xtx.shape[1])\n",
    "active_mask = np.zeros_like(betas).astype(bool)\n",
    "for i in range(len(betas)):\n",
    "    gamma, beta_deltas, new_active_idx = iterate_x_y_version(X,y,betas,active_mask)\n",
    "    betas += beta_deltas\n",
    "    active_mask[new_active_idx] = True\n",
    "    print(np.round(betas,4))"
   ]
  },
  {
   "cell_type": "markdown",
   "id": "9070db7f-bd46-48fd-ae72-d540a3fbdd1d",
   "metadata": {},
   "source": [
    "### LARS V2"
   ]
  },
  {
   "cell_type": "code",
   "execution_count": 17,
   "id": "056b3dab-5bdf-4a5a-8ee6-0bf954be4afa",
   "metadata": {
    "tags": []
   },
   "outputs": [
    {
     "name": "stdout",
     "output_type": "stream",
     "text": [
      "[0.     0.     0.0371 0.     0.     0.     0.     0.     0.     0.    ]\n",
      "[0.     0.     0.2235 0.     0.     0.     0.     0.     0.1864 0.    ]\n",
      "[0.     0.     0.2685 0.0489 0.     0.     0.     0.     0.2316 0.    ]\n",
      "[ 0.      0.      0.3123  0.1181  0.      0.     -0.0705  0.      0.2716\n",
      "  0.    ]\n",
      "[ 0.     -0.0463  0.3159  0.1446  0.      0.     -0.1048  0.      0.2784\n",
      "  0.    ]\n",
      "[ 0.     -0.0692  0.3163  0.156   0.      0.     -0.1211  0.      0.2794\n",
      "  0.0075]\n",
      "[ 0.     -0.1221  0.3226  0.1835 -0.0642  0.     -0.1383  0.      0.318\n",
      "  0.0338]\n",
      "[ 0.     -0.1397  0.3255  0.1942 -0.1205  0.     -0.0942  0.0657  0.3273\n",
      "  0.0398]\n",
      "[ 0.     -0.1403  0.3251  0.1945 -0.1467  0.0208 -0.0831  0.0688  0.337\n",
      "  0.0399]\n",
      "[-0.0062 -0.1481  0.3211  0.2004 -0.4893  0.2945  0.0624  0.1094  0.464\n",
      "  0.0418]\n"
     ]
    },
    {
     "name": "stderr",
     "output_type": "stream",
     "text": [
      "/var/folders/bf/_8fqhw492vgbwd129z6vqb800000gn/T/ipykernel_5151/503614994.py:19: RuntimeWarning: invalid value encountered in divide\n",
      "  left = (max_id_corr - current_corrs)/(1 - xtxequi)\n",
      "/var/folders/bf/_8fqhw492vgbwd129z6vqb800000gn/T/ipykernel_5151/503614994.py:19: RuntimeWarning: divide by zero encountered in divide\n",
      "  left = (max_id_corr - current_corrs)/(1 - xtxequi)\n",
      "/var/folders/bf/_8fqhw492vgbwd129z6vqb800000gn/T/ipykernel_5151/503614994.py:20: RuntimeWarning: divide by zero encountered in divide\n",
      "  right = (max_id_corr + current_corrs)/(1 + xtxequi)\n"
     ]
    }
   ],
   "source": [
    "betas = np.zeros(xtx.shape[1])\n",
    "active_mask = np.zeros_like(betas).astype(bool)\n",
    "for i in range(len(betas)):\n",
    "    gamma, beta_deltas, new_active_idx = iterate_xtx_version(xtx, xty, betas, active_mask)\n",
    "    betas += beta_deltas\n",
    "    active_mask[new_active_idx] = True\n",
    "    print(np.round(betas,4))"
   ]
  },
  {
   "cell_type": "code",
   "execution_count": null,
   "id": "947e36e4-1fc3-4ffc-87fd-1cfb19c6bbe6",
   "metadata": {},
   "outputs": [],
   "source": []
  },
  {
   "cell_type": "code",
   "execution_count": null,
   "id": "3f3079d0-f921-4fec-8dc3-a8e5f1c96fd3",
   "metadata": {},
   "outputs": [],
   "source": []
  }
 ],
 "metadata": {
  "kernelspec": {
   "display_name": "Python 3 (ipykernel)",
   "language": "python",
   "name": "python3"
  },
  "language_info": {
   "codemirror_mode": {
    "name": "ipython",
    "version": 3
   },
   "file_extension": ".py",
   "mimetype": "text/x-python",
   "name": "python",
   "nbconvert_exporter": "python",
   "pygments_lexer": "ipython3",
   "version": "3.10.0"
  }
 },
 "nbformat": 4,
 "nbformat_minor": 5
}
