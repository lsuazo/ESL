{
 "cells": [
  {
   "cell_type": "code",
   "execution_count": 1,
   "id": "premier-cornwall",
   "metadata": {},
   "outputs": [],
   "source": [
    "import pandas as pd\n",
    "import numpy as np\n",
    "import matplotlib.pyplot as plt\n",
    "\n",
    "import toolbox as tb"
   ]
  },
  {
   "cell_type": "code",
   "execution_count": 11,
   "id": "cultural-december",
   "metadata": {},
   "outputs": [],
   "source": [
    "np.random.seed(43)\n",
    "A = np.random.normal(1,1, size=(2,2))\n",
    "Sigma = A.T@A\n",
    "X = np.random.multivariate_normal([4,7], Sigma, size=100)"
   ]
  },
  {
   "cell_type": "code",
   "execution_count": 12,
   "id": "selective-patrol",
   "metadata": {},
   "outputs": [
    {
     "data": {
      "image/png": "[encoded data removed]",
      "text/plain": [
       "<Figure size 720x720 with 1 Axes>"
      ]
     },
     "metadata": {
      "needs_background": "light"
     },
     "output_type": "display_data"
    }
   ],
   "source": [
    "tb.scatter_points(X, show_origin=True, equal_scale=True)"
   ]
  },
  {
   "cell_type": "markdown",
   "id": "promotional-chicago",
   "metadata": {},
   "source": [
    "# SVD"
   ]
  },
  {
   "cell_type": "code",
   "execution_count": 52,
   "id": "polish-weekly",
   "metadata": {},
   "outputs": [],
   "source": [
    "U,S,V = np.linalg.svd(X, full_matrices=False)"
   ]
  },
  {
   "cell_type": "code",
   "execution_count": 53,
   "id": "military-split",
   "metadata": {},
   "outputs": [
    {
     "name": "stdout",
     "output_type": "stream",
     "text": [
      "U shape: (100, 2)\n",
      "S shape: (2,)\n",
      "V shape: (2, 2)\n"
     ]
    }
   ],
   "source": [
    "print(f\"U shape: {U.shape}\")\n",
    "print(f\"S shape: {S.shape}\")\n",
    "print(f\"V shape: {V.shape}\")"
   ]
  },
  {
   "cell_type": "code",
   "execution_count": 54,
   "id": "valuable-cargo",
   "metadata": {},
   "outputs": [],
   "source": [
    "# check constraints satisfied"
   ]
  },
  {
   "cell_type": "code",
   "execution_count": 55,
   "id": "fuzzy-intersection",
   "metadata": {},
   "outputs": [],
   "source": [
    "assert np.allclose(U@np.diag(S)@V,X)\n",
    "assert np.allclose(U.T@U, np.eye(U.shape[1]))\n",
    "assert np.allclose(V.T@V, np.eye(V.shape[1]))"
   ]
  },
  {
   "cell_type": "markdown",
   "id": "functional-belfast",
   "metadata": {},
   "source": [
    "Note that to put together again it is $USV$ instead of $USV^T$"
   ]
  },
  {
   "cell_type": "code",
   "execution_count": 62,
   "id": "racial-wonder",
   "metadata": {},
   "outputs": [
    {
     "data": {
      "image/png": "[encoded data removed]",
      "text/plain": [
       "<Figure size 720x720 with 1 Axes>"
      ]
     },
     "metadata": {
      "needs_background": "light"
     },
     "output_type": "display_data"
    }
   ],
   "source": [
    "tb.scatter_points(U, show_origin=True)"
   ]
  },
  {
   "cell_type": "markdown",
   "id": "danish-photography",
   "metadata": {},
   "source": [
    "### Relate to XTX"
   ]
  },
  {
   "cell_type": "code",
   "execution_count": 56,
   "id": "promotional-organic",
   "metadata": {},
   "outputs": [],
   "source": [
    "eig_values, eig_vectors = np.linalg.eig(X.T@X)"
   ]
  },
  {
   "cell_type": "code",
   "execution_count": 57,
   "id": "recovered-yellow",
   "metadata": {},
   "outputs": [],
   "source": [
    "assert np.allclose(S,np.sort(np.sqrt(eig_values))[::-1])"
   ]
  },
  {
   "cell_type": "code",
   "execution_count": 50,
   "id": "domestic-friendship",
   "metadata": {},
   "outputs": [
    {
     "data": {
      "text/plain": [
       "array([[-0.86286864, -0.50542825],\n",
       "       [ 0.50542825, -0.86286864]])"
      ]
     },
     "execution_count": 50,
     "metadata": {},
     "output_type": "execute_result"
    }
   ],
   "source": [
    "eig_vectors"
   ]
  },
  {
   "cell_type": "code",
   "execution_count": 51,
   "id": "framed-passion",
   "metadata": {},
   "outputs": [
    {
     "data": {
      "text/plain": [
       "array([[-0.50542825, -0.86286864],\n",
       "       [ 0.86286864, -0.50542825]])"
      ]
     },
     "execution_count": 51,
     "metadata": {},
     "output_type": "execute_result"
    }
   ],
   "source": [
    "V"
   ]
  },
  {
   "cell_type": "markdown",
   "id": "accepting-corner",
   "metadata": {},
   "source": [
    "# PCA"
   ]
  },
  {
   "cell_type": "markdown",
   "id": "unlike-importance",
   "metadata": {},
   "source": [
    "### Sklearn"
   ]
  },
  {
   "cell_type": "code",
   "execution_count": 16,
   "id": "vulnerable-violence",
   "metadata": {},
   "outputs": [],
   "source": [
    "from sklearn.decomposition import PCA"
   ]
  },
  {
   "cell_type": "code",
   "execution_count": 17,
   "id": "cardiovascular-listening",
   "metadata": {},
   "outputs": [],
   "source": [
    "pca = PCA(n_components=2)\n",
    "principalComponents = pca.fit_transform(X)\n",
    "principalDf = pd.DataFrame(data = principalComponents, columns = ['principal component 1', 'principal component 2'])"
   ]
  },
  {
   "cell_type": "code",
   "execution_count": 18,
   "id": "strange-decrease",
   "metadata": {},
   "outputs": [
    {
     "data": {
      "text/html": [
       "<div>\n",
       "<style scoped>\n",
       "    .dataframe tbody tr th:only-of-type {\n",
       "        vertical-align: middle;\n",
       "    }\n",
       "\n",
       "    .dataframe tbody tr th {\n",
       "        vertical-align: top;\n",
       "    }\n",
       "\n",
       "    .dataframe thead th {\n",
       "        text-align: right;\n",
       "    }\n",
       "</style>\n",
       "<table border=\"1\" class=\"dataframe\">\n",
       "  <thead>\n",
       "    <tr style=\"text-align: right;\">\n",
       "      <th></th>\n",
       "      <th>principal component 1</th>\n",
       "      <th>principal component 2</th>\n",
       "    </tr>\n",
       "  </thead>\n",
       "  <tbody>\n",
       "    <tr>\n",
       "      <th>0</th>\n",
       "      <td>-1.149459</td>\n",
       "      <td>0.166019</td>\n",
       "    </tr>\n",
       "    <tr>\n",
       "      <th>1</th>\n",
       "      <td>-0.632662</td>\n",
       "      <td>-0.725636</td>\n",
       "    </tr>\n",
       "    <tr>\n",
       "      <th>2</th>\n",
       "      <td>-1.729949</td>\n",
       "      <td>0.175205</td>\n",
       "    </tr>\n",
       "    <tr>\n",
       "      <th>3</th>\n",
       "      <td>0.578111</td>\n",
       "      <td>-0.152271</td>\n",
       "    </tr>\n",
       "    <tr>\n",
       "      <th>4</th>\n",
       "      <td>2.473848</td>\n",
       "      <td>0.334216</td>\n",
       "    </tr>\n",
       "    <tr>\n",
       "      <th>...</th>\n",
       "      <td>...</td>\n",
       "      <td>...</td>\n",
       "    </tr>\n",
       "    <tr>\n",
       "      <th>95</th>\n",
       "      <td>0.177988</td>\n",
       "      <td>0.024374</td>\n",
       "    </tr>\n",
       "    <tr>\n",
       "      <th>96</th>\n",
       "      <td>-0.213584</td>\n",
       "      <td>0.465183</td>\n",
       "    </tr>\n",
       "    <tr>\n",
       "      <th>97</th>\n",
       "      <td>-0.589130</td>\n",
       "      <td>0.000910</td>\n",
       "    </tr>\n",
       "    <tr>\n",
       "      <th>98</th>\n",
       "      <td>-2.842577</td>\n",
       "      <td>-0.129030</td>\n",
       "    </tr>\n",
       "    <tr>\n",
       "      <th>99</th>\n",
       "      <td>1.085318</td>\n",
       "      <td>0.566904</td>\n",
       "    </tr>\n",
       "  </tbody>\n",
       "</table>\n",
       "<p>100 rows × 2 columns</p>\n",
       "</div>"
      ],
      "text/plain": [
       "    principal component 1  principal component 2\n",
       "0               -1.149459               0.166019\n",
       "1               -0.632662              -0.725636\n",
       "2               -1.729949               0.175205\n",
       "3                0.578111              -0.152271\n",
       "4                2.473848               0.334216\n",
       "..                    ...                    ...\n",
       "95               0.177988               0.024374\n",
       "96              -0.213584               0.465183\n",
       "97              -0.589130               0.000910\n",
       "98              -2.842577              -0.129030\n",
       "99               1.085318               0.566904\n",
       "\n",
       "[100 rows x 2 columns]"
      ]
     },
     "execution_count": 18,
     "metadata": {},
     "output_type": "execute_result"
    }
   ],
   "source": [
    "principalDf"
   ]
  },
  {
   "cell_type": "code",
   "execution_count": 20,
   "id": "modern-creature",
   "metadata": {},
   "outputs": [
    {
     "data": {
      "image/png": "[encoded data removed]",
      "text/plain": [
       "<Figure size 720x720 with 1 Axes>"
      ]
     },
     "metadata": {
      "needs_background": "light"
     },
     "output_type": "display_data"
    }
   ],
   "source": [
    "tb.scatter_points(principalComponents, show_origin=True, equal_scale=True)"
   ]
  },
  {
   "cell_type": "markdown",
   "id": "applicable-illustration",
   "metadata": {},
   "source": [
    "### numpy equivalent"
   ]
  },
  {
   "cell_type": "markdown",
   "id": "baking-filename",
   "metadata": {},
   "source": [
    "### compare to regression"
   ]
  },
  {
   "cell_type": "code",
   "execution_count": 24,
   "id": "classified-burner",
   "metadata": {},
   "outputs": [],
   "source": [
    "lrmod = tb.linear_model(X[:,0], X[:,1], add_constant=False, verbose=False)"
   ]
  },
  {
   "cell_type": "code",
   "execution_count": 29,
   "id": "loaded-monroe",
   "metadata": {},
   "outputs": [
    {
     "data": {
      "text/plain": [
       "1.5653719809009703"
      ]
     },
     "execution_count": 29,
     "metadata": {},
     "output_type": "execute_result"
    }
   ],
   "source": [
    "lrmod.params[0]"
   ]
  },
  {
   "cell_type": "code",
   "execution_count": 32,
   "id": "perfect-eugene",
   "metadata": {},
   "outputs": [
    {
     "data": {
      "text/plain": [
       "[<matplotlib.lines.Line2D at 0x1e608d8d4f0>]"
      ]
     },
     "execution_count": 32,
     "metadata": {},
     "output_type": "execute_result"
    },
    {
     "data": {
      "image/png": "[encoded data removed]",
      "text/plain": [
       "<Figure size 720x720 with 1 Axes>"
      ]
     },
     "metadata": {
      "needs_background": "light"
     },
     "output_type": "display_data"
    }
   ],
   "source": [
    "tb.scatter_points(X)\n",
    "plt.plot([0,1], [0,lrmod.params[0]])"
   ]
  },
  {
   "cell_type": "code",
   "execution_count": null,
   "id": "found-functionality",
   "metadata": {},
   "outputs": [],
   "source": []
  }
 ],
 "metadata": {
  "kernelspec": {
   "display_name": "Python 3",
   "language": "python",
   "name": "python3"
  },
  "language_info": {
   "codemirror_mode": {
    "name": "ipython",
    "version": 3
   },
   "file_extension": ".py",
   "mimetype": "text/x-python",
   "name": "python",
   "nbconvert_exporter": "python",
   "pygments_lexer": "ipython3",
   "version": "3.8.5"
  }
 },
 "nbformat": 4,
 "nbformat_minor": 5
}
