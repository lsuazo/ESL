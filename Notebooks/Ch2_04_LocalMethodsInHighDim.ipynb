{
 "cells": [
  {
   "cell_type": "code",
   "execution_count": 1,
   "metadata": {},
   "outputs": [],
   "source": [
    "from sklearn.neighbors import KNeighborsClassifier\n",
    "import scipy\n",
    "import numpy as np\n",
    "import pandas as pd"
   ]
  },
  {
   "cell_type": "code",
   "execution_count": 11,
   "metadata": {},
   "outputs": [],
   "source": [
    "scipy.random.seed(42)"
   ]
  },
  {
   "cell_type": "code",
   "execution_count": 13,
   "metadata": {},
   "outputs": [],
   "source": [
    "N = 1000"
   ]
  },
  {
   "cell_type": "code",
   "execution_count": 14,
   "metadata": {},
   "outputs": [],
   "source": [
    "def true_model(x):\n",
    "    return np.exp(-8*x.dot(x))"
   ]
  },
  {
   "cell_type": "code",
   "execution_count": 15,
   "metadata": {},
   "outputs": [],
   "source": [
    "def single_run_error(N,p):\n",
    "    points = scipy.random.uniform(-1, 1, (N,p))\n",
    "    square_dist_to_orig = (points*points).sum(axis=1)\n",
    "    min_idx = np.argmin(square_dist_to_orig)\n",
    "    val_at_point = true_model(points[min_idx])\n",
    "    val_at_origin = 1\n",
    "    return (val_at_point - val_at_origin)**2"
   ]
  },
  {
   "cell_type": "code",
   "execution_count": 16,
   "metadata": {},
   "outputs": [],
   "source": [
    "errors = []\n",
    "for _ in range(1000):\n",
    "    errors.append(single_run_error(N,p))"
   ]
  },
  {
   "cell_type": "code",
   "execution_count": 17,
   "metadata": {},
   "outputs": [
    {
     "data": {
      "text/plain": [
       "0.00019153632816472786"
      ]
     },
     "execution_count": 17,
     "metadata": {},
     "output_type": "execute_result"
    }
   ],
   "source": [
    "np.mean(errors)"
   ]
  },
  {
   "cell_type": "markdown",
   "metadata": {},
   "source": [
    "Now calculate errors as dimensions grow"
   ]
  },
  {
   "cell_type": "code",
   "execution_count": 22,
   "metadata": {},
   "outputs": [],
   "source": [
    "mean_errors = {}\n",
    "for p in range(3,15):\n",
    "    errors = []\n",
    "    for _ in range(1000):\n",
    "        errors.append(single_run_error(N,p))\n",
    "    mean_errors[p] = np.mean(errors)"
   ]
  },
  {
   "cell_type": "code",
   "execution_count": 23,
   "metadata": {},
   "outputs": [
    {
     "data": {
      "text/plain": [
       "{3: 0.014862447290552737,\n",
       " 4: 0.11766063606511801,\n",
       " 5: 0.35177479810767065,\n",
       " 6: 0.6151974236111366,\n",
       " 7: 0.8019999083431385,\n",
       " 8: 0.9151466973454379,\n",
       " 9: 0.9693100180178237,\n",
       " 10: 0.9880104718391142,\n",
       " 11: 0.9953985842140733,\n",
       " 12: 0.9982925593048033,\n",
       " 13: 0.999634283089413,\n",
       " 14: 0.9998393253900153}"
      ]
     },
     "execution_count": 23,
     "metadata": {},
     "output_type": "execute_result"
    }
   ],
   "source": [
    "mean_errors"
   ]
  },
  {
   "cell_type": "markdown",
   "metadata": {},
   "source": [
    "Note max error is 1 - due to this example"
   ]
  },
  {
   "cell_type": "code",
   "execution_count": null,
   "metadata": {},
   "outputs": [],
   "source": []
  }
 ],
 "metadata": {
  "kernelspec": {
   "display_name": "Python 3",
   "language": "python",
   "name": "python3"
  },
  "language_info": {
   "codemirror_mode": {
    "name": "ipython",
    "version": 3
   },
   "file_extension": ".py",
   "mimetype": "text/x-python",
   "name": "python",
   "nbconvert_exporter": "python",
   "pygments_lexer": "ipython3",
   "version": "3.8.3"
  }
 },
 "nbformat": 4,
 "nbformat_minor": 4
}
