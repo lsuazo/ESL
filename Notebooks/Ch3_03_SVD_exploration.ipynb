{
 "cells": [
  {
   "cell_type": "code",
   "execution_count": 1,
   "id": "changing-chile",
   "metadata": {},
   "outputs": [],
   "source": [
    "import pandas as pd\n",
    "import numpy as np\n",
    "import matplotlib.pyplot as plt\n",
    "\n",
    "import toolbox as tb"
   ]
  },
  {
   "cell_type": "code",
   "execution_count": 2,
   "id": "specific-flood",
   "metadata": {},
   "outputs": [],
   "source": [
    "np.random.seed(43)\n",
    "A = np.random.normal(1,1, size=(2,2))\n",
    "Sigma = A.T@A\n",
    "X = np.random.multivariate_normal([4,7], Sigma, size=100)"
   ]
  },
  {
   "cell_type": "markdown",
   "id": "sought-conducting",
   "metadata": {},
   "source": [
    "# SVD"
   ]
  },
  {
   "cell_type": "markdown",
   "id": "incorrect-lying",
   "metadata": {},
   "source": [
    "Does it depend on mean?"
   ]
  },
  {
   "cell_type": "code",
   "execution_count": 35,
   "id": "institutional-enzyme",
   "metadata": {},
   "outputs": [
    {
     "data": {
      "text/plain": [
       "(array([16.18679079,  3.29010999]), array([16.18679079,  3.29010999]))"
      ]
     },
     "execution_count": 35,
     "metadata": {},
     "output_type": "execute_result"
    }
   ],
   "source": [
    "U,S,V = np.linalg.svd(X, full_matrices=False)\n",
    "U2,S2,V2 = np.linalg.svd(tb.demean(X), full_matrices=False)\n",
    "S, S2"
   ]
  },
  {
   "cell_type": "markdown",
   "id": "perfect-mouse",
   "metadata": {},
   "source": [
    "YES. I will work with demeaned data (for easier PCA, correlation intepretation)"
   ]
  },
  {
   "cell_type": "code",
   "execution_count": 5,
   "id": "random-evanescence",
   "metadata": {},
   "outputs": [],
   "source": [
    "X = tb.demean(X)\n",
    "U,S,V = np.linalg.svd(X, full_matrices=False)"
   ]
  },
  {
   "cell_type": "code",
   "execution_count": 6,
   "id": "fiscal-north",
   "metadata": {},
   "outputs": [
    {
     "name": "stdout",
     "output_type": "stream",
     "text": [
      "U shape: (100, 2)\n",
      "S shape: (2,)\n",
      "V shape: (2, 2)\n"
     ]
    }
   ],
   "source": [
    "print(f\"U shape: {U.shape}\")\n",
    "print(f\"S shape: {S.shape}\")\n",
    "print(f\"V shape: {V.shape}\")"
   ]
  },
  {
   "cell_type": "markdown",
   "id": "fancy-toner",
   "metadata": {},
   "source": [
    "Note that to put together again it is $USV$ instead of $USV^T$ -  this is simply numpy naming convention"
   ]
  },
  {
   "cell_type": "code",
   "execution_count": 7,
   "id": "regional-silence",
   "metadata": {},
   "outputs": [],
   "source": [
    "assert np.allclose(U@np.diag(S)@V,X)"
   ]
  },
  {
   "cell_type": "markdown",
   "id": "opposite-second",
   "metadata": {},
   "source": [
    "$ U^TU = I $ and $ V^TV = I $"
   ]
  },
  {
   "cell_type": "code",
   "execution_count": 8,
   "id": "thorough-while",
   "metadata": {},
   "outputs": [],
   "source": [
    "assert np.allclose(U.T@U, np.eye(U.shape[1]))\n",
    "assert np.allclose(V.T@V, np.eye(V.shape[1]))"
   ]
  },
  {
   "cell_type": "markdown",
   "id": "monthly-acoustic",
   "metadata": {},
   "source": [
    "Peculiar structure of $V$"
   ]
  },
  {
   "cell_type": "code",
   "execution_count": 9,
   "id": "adaptive-budapest",
   "metadata": {},
   "outputs": [
    {
     "data": {
      "text/plain": [
       "True"
      ]
     },
     "execution_count": 9,
     "metadata": {},
     "output_type": "execute_result"
    }
   ],
   "source": [
    "np.allclose(V@V.T, np.eye(V.shape[0]))"
   ]
  },
  {
   "cell_type": "code",
   "execution_count": 10,
   "id": "undefined-murder",
   "metadata": {},
   "outputs": [
    {
     "data": {
      "text/plain": [
       "array([[ 0.97634652,  0.21621165],\n",
       "       [ 0.21621165, -0.97634652]])"
      ]
     },
     "execution_count": 10,
     "metadata": {},
     "output_type": "execute_result"
    }
   ],
   "source": [
    "V"
   ]
  },
  {
   "cell_type": "code",
   "execution_count": 11,
   "id": "obvious-script",
   "metadata": {},
   "outputs": [
    {
     "data": {
      "text/plain": [
       "array([[ 0.97634652,  0.21621165],\n",
       "       [ 0.21621165, -0.97634652]])"
      ]
     },
     "execution_count": 11,
     "metadata": {},
     "output_type": "execute_result"
    }
   ],
   "source": [
    "V.T"
   ]
  },
  {
   "cell_type": "markdown",
   "id": "diagnostic-ideal",
   "metadata": {},
   "source": [
    "### Relate to Gram Matrix (XTX)"
   ]
  },
  {
   "cell_type": "code",
   "execution_count": 12,
   "id": "intended-terminology",
   "metadata": {},
   "outputs": [],
   "source": [
    "G = X.T@X"
   ]
  },
  {
   "cell_type": "markdown",
   "id": "adaptive-value",
   "metadata": {},
   "source": [
    "$ (X^TX)V = VS^2 $"
   ]
  },
  {
   "cell_type": "code",
   "execution_count": 13,
   "id": "noticed-field",
   "metadata": {},
   "outputs": [],
   "source": [
    "assert np.allclose(G@V.T, V.T@np.diag(S**2))"
   ]
  },
  {
   "cell_type": "code",
   "execution_count": 14,
   "id": "still-festival",
   "metadata": {},
   "outputs": [],
   "source": [
    "eig_values, eig_vectors = np.linalg.eig(G)\n",
    "assert np.allclose(S,np.sort(np.sqrt(eig_values))[::-1])"
   ]
  },
  {
   "cell_type": "code",
   "execution_count": 15,
   "id": "medium-volleyball",
   "metadata": {},
   "outputs": [
    {
     "data": {
      "text/plain": [
       "array([262.01219607,  10.82482376])"
      ]
     },
     "execution_count": 15,
     "metadata": {},
     "output_type": "execute_result"
    }
   ],
   "source": [
    "eig_values"
   ]
  },
  {
   "cell_type": "code",
   "execution_count": 16,
   "id": "applied-wyoming",
   "metadata": {},
   "outputs": [
    {
     "data": {
      "text/plain": [
       "array([262.01219607, 262.01219607])"
      ]
     },
     "execution_count": 16,
     "metadata": {},
     "output_type": "execute_result"
    }
   ],
   "source": [
    "(G@(V.T[:,0]))/V.T[:,0]"
   ]
  },
  {
   "cell_type": "code",
   "execution_count": 17,
   "id": "simple-yesterday",
   "metadata": {},
   "outputs": [
    {
     "data": {
      "text/plain": [
       "array([10.82482376, 10.82482376])"
      ]
     },
     "execution_count": 17,
     "metadata": {},
     "output_type": "execute_result"
    }
   ],
   "source": [
    "(G@(V.T[:,1]))/V.T[:,1]"
   ]
  },
  {
   "cell_type": "code",
   "execution_count": 18,
   "id": "comic-finish",
   "metadata": {},
   "outputs": [],
   "source": [
    "H = X@X.T"
   ]
  },
  {
   "cell_type": "markdown",
   "id": "responsible-allocation",
   "metadata": {},
   "source": [
    "$ (XX^T)U = US^2 $"
   ]
  },
  {
   "cell_type": "code",
   "execution_count": 19,
   "id": "modern-miracle",
   "metadata": {},
   "outputs": [],
   "source": [
    "assert np.allclose(H@U, U@np.diag(S**2))"
   ]
  },
  {
   "cell_type": "code",
   "execution_count": 20,
   "id": "advisory-replica",
   "metadata": {},
   "outputs": [],
   "source": [
    "eig_values, eig_vectors = np.linalg.eig(H)\n",
    "assert np.allclose(S, np.sort(np.sqrt(np.real(eig_values).round(10))[0:2])[::-1])"
   ]
  },
  {
   "cell_type": "markdown",
   "id": "leading-morrison",
   "metadata": {},
   "source": [
    "## Interpretation of SVD\n"
   ]
  },
  {
   "cell_type": "markdown",
   "id": "corresponding-donor",
   "metadata": {},
   "source": [
    "* V's are eigenvectors of Gram matrix\n",
    "    - hence principal components (see PCA)\n",
    "* This allows us the interpretation that each row is a vector in $R^p$, Gramm matrix is correlation matrix (since demeaned), and we are finding linear orthognal basis of $R^p$ that \"best expresses\" the variance in the data.\n",
    "* Can we interpret Gramm matrix without using correlation? Something about inner relative inner product of data vectors? This being a measure of spread?"
   ]
  },
  {
   "cell_type": "code",
   "execution_count": 31,
   "id": "representative-instrument",
   "metadata": {},
   "outputs": [
    {
     "data": {
      "image/png": "[encoded data removed]",
      "text/plain": [
       "<Figure size 720x720 with 1 Axes>"
      ]
     },
     "metadata": {
      "needs_background": "light"
     },
     "output_type": "display_data"
    }
   ],
   "source": [
    "fig, ax = plt.subplots(1,1, figsize=(10,10))\n",
    "tb.scatter_points(ax, X, show_origin=True, equal_scale=True)\n",
    "tb.plot_infinite_line(ax, (0,0), V.T[:,0])\n",
    "tb.plot_infinite_line(ax, (0,0), V.T[:,1])"
   ]
  },
  {
   "cell_type": "markdown",
   "id": "forbidden-prisoner",
   "metadata": {},
   "source": [
    "NOTE"
   ]
  },
  {
   "cell_type": "markdown",
   "id": "shared-damage",
   "metadata": {},
   "source": [
    "* $ X : R^p \\to R^n$ \n",
    "let $v_i$ be cols of $V$, and $u_i$ be cols of $U$, and $\\sigma_i$ the ith diagonal element of $\\Sigma$\n",
    "* $X(v_i) = \\sigma_i u_i$  (or zero)"
   ]
  },
  {
   "cell_type": "code",
   "execution_count": 32,
   "id": "cordless-microwave",
   "metadata": {},
   "outputs": [
    {
     "data": {
      "text/plain": [
       "array([16.18679079, 16.18679079, 16.18679079, 16.18679079, 16.18679079,\n",
       "       16.18679079, 16.18679079, 16.18679079, 16.18679079, 16.18679079,\n",
       "       16.18679079, 16.18679079, 16.18679079, 16.18679079, 16.18679079,\n",
       "       16.18679079, 16.18679079, 16.18679079, 16.18679079, 16.18679079,\n",
       "       16.18679079, 16.18679079, 16.18679079, 16.18679079, 16.18679079,\n",
       "       16.18679079, 16.18679079, 16.18679079, 16.18679079, 16.18679079,\n",
       "       16.18679079, 16.18679079, 16.18679079, 16.18679079, 16.18679079,\n",
       "       16.18679079, 16.18679079, 16.18679079, 16.18679079, 16.18679079,\n",
       "       16.18679079, 16.18679079, 16.18679079, 16.18679079, 16.18679079,\n",
       "       16.18679079, 16.18679079, 16.18679079, 16.18679079, 16.18679079,\n",
       "       16.18679079, 16.18679079, 16.18679079, 16.18679079, 16.18679079,\n",
       "       16.18679079, 16.18679079, 16.18679079, 16.18679079, 16.18679079,\n",
       "       16.18679079, 16.18679079, 16.18679079, 16.18679079, 16.18679079,\n",
       "       16.18679079, 16.18679079, 16.18679079, 16.18679079, 16.18679079,\n",
       "       16.18679079, 16.18679079, 16.18679079, 16.18679079, 16.18679079,\n",
       "       16.18679079, 16.18679079, 16.18679079, 16.18679079, 16.18679079,\n",
       "       16.18679079, 16.18679079, 16.18679079, 16.18679079, 16.18679079,\n",
       "       16.18679079, 16.18679079, 16.18679079, 16.18679079, 16.18679079,\n",
       "       16.18679079, 16.18679079, 16.18679079, 16.18679079, 16.18679079,\n",
       "       16.18679079, 16.18679079, 16.18679079, 16.18679079, 16.18679079])"
      ]
     },
     "execution_count": 32,
     "metadata": {},
     "output_type": "execute_result"
    }
   ],
   "source": [
    "X@(V.T[:,0])/U[:,0]"
   ]
  },
  {
   "cell_type": "markdown",
   "id": "graduate-palmer",
   "metadata": {},
   "source": [
    "This is saying that the $U$s are the map of the $X$s, to the $V$ coordinates!"
   ]
  },
  {
   "cell_type": "code",
   "execution_count": 33,
   "id": "prescription-saying",
   "metadata": {},
   "outputs": [
    {
     "data": {
      "image/png": "[encoded data removed]",
      "text/plain": [
       "<Figure size 720x720 with 1 Axes>"
      ]
     },
     "metadata": {
      "needs_background": "light"
     },
     "output_type": "display_data"
    }
   ],
   "source": [
    "fig, ax = plt.subplots(1,1, figsize=(10,10))\n",
    "tb.scatter_points(ax, U@np.diag(S), show_origin=True, equal_scale=True)"
   ]
  },
  {
   "cell_type": "markdown",
   "id": "available-hostel",
   "metadata": {},
   "source": [
    "There is a rotation and a reflection in the map above"
   ]
  },
  {
   "cell_type": "code",
   "execution_count": 34,
   "id": "cutting-manual",
   "metadata": {},
   "outputs": [
    {
     "data": {
      "image/png": "[encoded data removed]",
      "text/plain": [
       "<Figure size 720x720 with 1 Axes>"
      ]
     },
     "metadata": {
      "needs_background": "light"
     },
     "output_type": "display_data"
    }
   ],
   "source": [
    "fig, ax = plt.subplots(1,1, figsize=(10,10))\n",
    "tb.scatter_points(ax, X, show_origin=True, equal_scale=True)\n",
    "tb.plot_infinite_line(ax, (0,0), V.T[:,0])\n",
    "tb.plot_infinite_line(ax, (0,0), V.T[:,1])"
   ]
  }
 ],
 "metadata": {
  "kernelspec": {
   "display_name": "Python 3",
   "language": "python",
   "name": "python3"
  },
  "language_info": {
   "codemirror_mode": {
    "name": "ipython",
    "version": 3
   },
   "file_extension": ".py",
   "mimetype": "text/x-python",
   "name": "python",
   "nbconvert_exporter": "python",
   "pygments_lexer": "ipython3",
   "version": "3.8.5"
  }
 },
 "nbformat": 4,
 "nbformat_minor": 5
}
