{
 "cells": [
  {
   "cell_type": "code",
   "execution_count": 1,
   "id": "catholic-locking",
   "metadata": {},
   "outputs": [],
   "source": [
    "import numpy as np\n",
    "import toolbox as tb"
   ]
  },
  {
   "cell_type": "markdown",
   "id": "studied-broadway",
   "metadata": {},
   "source": [
    "### Generate date"
   ]
  },
  {
   "cell_type": "code",
   "execution_count": 2,
   "id": "cross-officer",
   "metadata": {},
   "outputs": [
    {
     "data": {
      "text/plain": [
       "array([[ 6.73, -1.5 ,  4.03,  3.5 ],\n",
       "       [-1.5 ,  4.82, -5.09, -4.9 ],\n",
       "       [ 4.03, -5.09,  7.15,  6.86],\n",
       "       [ 3.5 , -4.9 ,  6.86,  6.63]])"
      ]
     },
     "execution_count": 2,
     "metadata": {},
     "output_type": "execute_result"
    }
   ],
   "source": [
    "np.random.seed(43)\n",
    "N = 20\n",
    "\n",
    "A = np.random.randint(-20, 20, size=(4,4))/10\n",
    "cov = np.dot(A, A.transpose())\n",
    "cov"
   ]
  },
  {
   "cell_type": "code",
   "execution_count": 3,
   "id": "divided-float",
   "metadata": {},
   "outputs": [],
   "source": [
    "X = np.random.multivariate_normal([1,2,3,4], cov, size=N)\n",
    "error = np.random.normal(0,1.5,size=N)\n",
    "Y = 2*X[:,0] - 5*X[:,1] + X[:,2] + 0.3*X[:,3] + error"
   ]
  },
  {
   "cell_type": "markdown",
   "id": "mediterranean-joshua",
   "metadata": {},
   "source": [
    "### Fit multivariate linear model"
   ]
  },
  {
   "cell_type": "code",
   "execution_count": 4,
   "id": "conventional-bahrain",
   "metadata": {},
   "outputs": [
    {
     "data": {
      "text/html": [
       "<table class=\"simpletable\">\n",
       "<caption>OLS Regression Results</caption>\n",
       "<tr>\n",
       "  <th>Dep. Variable:</th>            <td>y</td>        <th>  R-squared (uncentered):</th>      <td>   0.996</td>\n",
       "</tr>\n",
       "<tr>\n",
       "  <th>Model:</th>                   <td>OLS</td>       <th>  Adj. R-squared (uncentered):</th> <td>   0.995</td>\n",
       "</tr>\n",
       "<tr>\n",
       "  <th>Method:</th>             <td>Least Squares</td>  <th>  F-statistic:       </th>          <td>   947.8</td>\n",
       "</tr>\n",
       "<tr>\n",
       "  <th>Date:</th>             <td>Fri, 05 Mar 2021</td> <th>  Prob (F-statistic):</th>          <td>8.72e-19</td>\n",
       "</tr>\n",
       "<tr>\n",
       "  <th>Time:</th>                 <td>12:12:26</td>     <th>  Log-Likelihood:    </th>          <td> -28.294</td>\n",
       "</tr>\n",
       "<tr>\n",
       "  <th>No. Observations:</th>      <td>    20</td>      <th>  AIC:               </th>          <td>   64.59</td>\n",
       "</tr>\n",
       "<tr>\n",
       "  <th>Df Residuals:</th>          <td>    16</td>      <th>  BIC:               </th>          <td>   68.57</td>\n",
       "</tr>\n",
       "<tr>\n",
       "  <th>Df Model:</th>              <td>     4</td>      <th>                     </th>              <td> </td>   \n",
       "</tr>\n",
       "<tr>\n",
       "  <th>Covariance Type:</th>      <td>nonrobust</td>    <th>                     </th>              <td> </td>   \n",
       "</tr>\n",
       "</table>\n",
       "<table class=\"simpletable\">\n",
       "<tr>\n",
       "   <td></td>     <th>coef</th>     <th>std err</th>      <th>t</th>      <th>P>|t|</th>  <th>[0.025</th>    <th>0.975]</th>  \n",
       "</tr>\n",
       "<tr>\n",
       "  <th>x1</th> <td>    3.1023</td> <td>    0.437</td> <td>    7.092</td> <td> 0.000</td> <td>    2.175</td> <td>    4.030</td>\n",
       "</tr>\n",
       "<tr>\n",
       "  <th>x2</th> <td>   -6.4428</td> <td>    0.591</td> <td>  -10.908</td> <td> 0.000</td> <td>   -7.695</td> <td>   -5.191</td>\n",
       "</tr>\n",
       "<tr>\n",
       "  <th>x3</th> <td>   -7.1626</td> <td>    2.865</td> <td>   -2.500</td> <td> 0.024</td> <td>  -13.235</td> <td>   -1.090</td>\n",
       "</tr>\n",
       "<tr>\n",
       "  <th>x4</th> <td>    6.9042</td> <td>    2.339</td> <td>    2.951</td> <td> 0.009</td> <td>    1.945</td> <td>   11.863</td>\n",
       "</tr>\n",
       "</table>\n",
       "<table class=\"simpletable\">\n",
       "<tr>\n",
       "  <th>Omnibus:</th>       <td> 1.391</td> <th>  Durbin-Watson:     </th> <td>   2.427</td>\n",
       "</tr>\n",
       "<tr>\n",
       "  <th>Prob(Omnibus):</th> <td> 0.499</td> <th>  Jarque-Bera (JB):  </th> <td>   1.093</td>\n",
       "</tr>\n",
       "<tr>\n",
       "  <th>Skew:</th>          <td>-0.354</td> <th>  Prob(JB):          </th> <td>   0.579</td>\n",
       "</tr>\n",
       "<tr>\n",
       "  <th>Kurtosis:</th>      <td> 2.099</td> <th>  Cond. No.          </th> <td>    89.3</td>\n",
       "</tr>\n",
       "</table><br/><br/>Notes:<br/>[1] R² is computed without centering (uncentered) since the model does not contain a constant.<br/>[2] Standard Errors assume that the covariance matrix of the errors is correctly specified."
      ],
      "text/plain": [
       "<class 'statsmodels.iolib.summary.Summary'>\n",
       "\"\"\"\n",
       "                                 OLS Regression Results                                \n",
       "=======================================================================================\n",
       "Dep. Variable:                      y   R-squared (uncentered):                   0.996\n",
       "Model:                            OLS   Adj. R-squared (uncentered):              0.995\n",
       "Method:                 Least Squares   F-statistic:                              947.8\n",
       "Date:                Fri, 05 Mar 2021   Prob (F-statistic):                    8.72e-19\n",
       "Time:                        12:12:26   Log-Likelihood:                         -28.294\n",
       "No. Observations:                  20   AIC:                                      64.59\n",
       "Df Residuals:                      16   BIC:                                      68.57\n",
       "Df Model:                           4                                                  \n",
       "Covariance Type:            nonrobust                                                  \n",
       "==============================================================================\n",
       "                 coef    std err          t      P>|t|      [0.025      0.975]\n",
       "------------------------------------------------------------------------------\n",
       "x1             3.1023      0.437      7.092      0.000       2.175       4.030\n",
       "x2            -6.4428      0.591    -10.908      0.000      -7.695      -5.191\n",
       "x3            -7.1626      2.865     -2.500      0.024     -13.235      -1.090\n",
       "x4             6.9042      2.339      2.951      0.009       1.945      11.863\n",
       "==============================================================================\n",
       "Omnibus:                        1.391   Durbin-Watson:                   2.427\n",
       "Prob(Omnibus):                  0.499   Jarque-Bera (JB):                1.093\n",
       "Skew:                          -0.354   Prob(JB):                        0.579\n",
       "Kurtosis:                       2.099   Cond. No.                         89.3\n",
       "==============================================================================\n",
       "\n",
       "Notes:\n",
       "[1] R² is computed without centering (uncentered) since the model does not contain a constant.\n",
       "[2] Standard Errors assume that the covariance matrix of the errors is correctly specified.\n",
       "\"\"\""
      ]
     },
     "metadata": {},
     "output_type": "display_data"
    },
    {
     "data": {
      "text/plain": [
       "<statsmodels.regression.linear_model.RegressionResultsWrapper at 0x19f7f2dea30>"
      ]
     },
     "execution_count": 4,
     "metadata": {},
     "output_type": "execute_result"
    }
   ],
   "source": [
    "tb.linear_model(X, Y, add_constant=False)"
   ]
  },
  {
   "cell_type": "markdown",
   "id": "owned-destiny",
   "metadata": {},
   "source": [
    "# Successive orthogonalization approach - deconstructed"
   ]
  },
  {
   "cell_type": "code",
   "execution_count": 5,
   "id": "ranging-healing",
   "metadata": {},
   "outputs": [],
   "source": [
    "(x0, x1, x2, x3) = (X[:,0], X[:,1], X[:,2], X[:,3])"
   ]
  },
  {
   "cell_type": "code",
   "execution_count": 6,
   "id": "reported-reputation",
   "metadata": {},
   "outputs": [
    {
     "data": {
      "text/plain": [
       "(53.9564376763056, 121.38349370639646, 34.454796297421126)"
      ]
     },
     "execution_count": 6,
     "metadata": {},
     "output_type": "execute_result"
    }
   ],
   "source": [
    "x0.dot(x1), x0.dot(x2), x1.dot(x2)"
   ]
  },
  {
   "cell_type": "code",
   "execution_count": 7,
   "id": "driven-springer",
   "metadata": {},
   "outputs": [],
   "source": [
    "from typing import List\n",
    "\n",
    "def gamma_factor(reference_direction, vec):\n",
    "    return (np.dot(reference_direction, vec) / np.dot(reference_direction, reference_direction))\n",
    "\n",
    "def gram_schmidt(vecs: List[np.array]):\n",
    "    results = []\n",
    "    for i in range(len(vecs)):\n",
    "        new_vec = vecs[i].copy()\n",
    "        for j in range(0,i):\n",
    "            new_vec -=  gamma_factor(results[j], vecs[i])* results[j]\n",
    "        results.append(new_vec)\n",
    "    return results"
   ]
  },
  {
   "cell_type": "markdown",
   "id": "liquid-essex",
   "metadata": {},
   "source": [
    "Will get the x4 coefficient\n",
    "* first do gram schmidt on x0, x1, x2"
   ]
  },
  {
   "cell_type": "code",
   "execution_count": 8,
   "id": "negative-holiday",
   "metadata": {},
   "outputs": [],
   "source": [
    "z0, z1, z2 = gram_schmidt([x0, x1, x2])"
   ]
  },
  {
   "cell_type": "code",
   "execution_count": 9,
   "id": "accessible-senator",
   "metadata": {},
   "outputs": [
    {
     "data": {
      "text/plain": [
       "(2.6645352591003757e-15, 1.7430501486614958e-14, -8.881784197001252e-15)"
      ]
     },
     "execution_count": 9,
     "metadata": {},
     "output_type": "execute_result"
    }
   ],
   "source": [
    "# sanity check\n",
    "z0.dot(z1), z0.dot(z2), z1.dot(z2)"
   ]
  },
  {
   "cell_type": "markdown",
   "id": "transsexual-perspective",
   "metadata": {},
   "source": [
    "Now project project x3 onto z1, z2, z3. (This is not quite a projection, because it contains an extra normalization for the projected direction vector)"
   ]
  },
  {
   "cell_type": "code",
   "execution_count": 10,
   "id": "available-technical",
   "metadata": {},
   "outputs": [
    {
     "data": {
      "text/plain": [
       "(1.4306431710219687, 0.04650218844732895, 1.223726129762212)"
      ]
     },
     "execution_count": 10,
     "metadata": {},
     "output_type": "execute_result"
    }
   ],
   "source": [
    "gamma03 = gamma_factor(z0, x3)\n",
    "gamma13 = gamma_factor(z1, x3)\n",
    "gamma23 = gamma_factor(z2, x3)\n",
    "\n",
    "gamma03, gamma13, gamma23"
   ]
  },
  {
   "cell_type": "markdown",
   "id": "comprehensive-antarctica",
   "metadata": {},
   "source": [
    "Another consistency check: since z0, z1, and z2 are orthogonal, regressing x3 on them should result in the same values:"
   ]
  },
  {
   "cell_type": "code",
   "execution_count": 11,
   "id": "stupid-potato",
   "metadata": {},
   "outputs": [
    {
     "data": {
      "text/html": [
       "<table class=\"simpletable\">\n",
       "<caption>OLS Regression Results</caption>\n",
       "<tr>\n",
       "  <th>Dep. Variable:</th>            <td>y</td>        <th>  R-squared (uncentered):</th>      <td>   0.999</td>\n",
       "</tr>\n",
       "<tr>\n",
       "  <th>Model:</th>                   <td>OLS</td>       <th>  Adj. R-squared (uncentered):</th> <td>   0.999</td>\n",
       "</tr>\n",
       "<tr>\n",
       "  <th>Method:</th>             <td>Least Squares</td>  <th>  F-statistic:       </th>          <td>   9099.</td>\n",
       "</tr>\n",
       "<tr>\n",
       "  <th>Date:</th>             <td>Fri, 05 Mar 2021</td> <th>  Prob (F-statistic):</th>          <td>1.93e-27</td>\n",
       "</tr>\n",
       "<tr>\n",
       "  <th>Time:</th>                 <td>12:12:32</td>     <th>  Log-Likelihood:    </th>          <td>  16.428</td>\n",
       "</tr>\n",
       "<tr>\n",
       "  <th>No. Observations:</th>      <td>    20</td>      <th>  AIC:               </th>          <td>  -26.86</td>\n",
       "</tr>\n",
       "<tr>\n",
       "  <th>Df Residuals:</th>          <td>    17</td>      <th>  BIC:               </th>          <td>  -23.87</td>\n",
       "</tr>\n",
       "<tr>\n",
       "  <th>Df Model:</th>              <td>     3</td>      <th>                     </th>              <td> </td>   \n",
       "</tr>\n",
       "<tr>\n",
       "  <th>Covariance Type:</th>      <td>nonrobust</td>    <th>                     </th>              <td> </td>   \n",
       "</tr>\n",
       "</table>\n",
       "<table class=\"simpletable\">\n",
       "<tr>\n",
       "   <td></td>     <th>coef</th>     <th>std err</th>      <th>t</th>      <th>P>|t|</th>  <th>[0.025</th>    <th>0.975]</th>  \n",
       "</tr>\n",
       "<tr>\n",
       "  <th>x1</th> <td>    1.4306</td> <td>    0.011</td> <td>  124.709</td> <td> 0.000</td> <td>    1.406</td> <td>    1.455</td>\n",
       "</tr>\n",
       "<tr>\n",
       "  <th>x2</th> <td>    0.0465</td> <td>    0.009</td> <td>    5.433</td> <td> 0.000</td> <td>    0.028</td> <td>    0.065</td>\n",
       "</tr>\n",
       "<tr>\n",
       "  <th>x3</th> <td>    1.2237</td> <td>    0.011</td> <td>  108.234</td> <td> 0.000</td> <td>    1.200</td> <td>    1.248</td>\n",
       "</tr>\n",
       "</table>\n",
       "<table class=\"simpletable\">\n",
       "<tr>\n",
       "  <th>Omnibus:</th>       <td> 1.016</td> <th>  Durbin-Watson:     </th> <td>   2.723</td>\n",
       "</tr>\n",
       "<tr>\n",
       "  <th>Prob(Omnibus):</th> <td> 0.602</td> <th>  Jarque-Bera (JB):  </th> <td>   0.765</td>\n",
       "</tr>\n",
       "<tr>\n",
       "  <th>Skew:</th>          <td> 0.053</td> <th>  Prob(JB):          </th> <td>   0.682</td>\n",
       "</tr>\n",
       "<tr>\n",
       "  <th>Kurtosis:</th>      <td> 2.048</td> <th>  Cond. No.          </th> <td>    1.34</td>\n",
       "</tr>\n",
       "</table><br/><br/>Notes:<br/>[1] R² is computed without centering (uncentered) since the model does not contain a constant.<br/>[2] Standard Errors assume that the covariance matrix of the errors is correctly specified."
      ],
      "text/plain": [
       "<class 'statsmodels.iolib.summary.Summary'>\n",
       "\"\"\"\n",
       "                                 OLS Regression Results                                \n",
       "=======================================================================================\n",
       "Dep. Variable:                      y   R-squared (uncentered):                   0.999\n",
       "Model:                            OLS   Adj. R-squared (uncentered):              0.999\n",
       "Method:                 Least Squares   F-statistic:                              9099.\n",
       "Date:                Fri, 05 Mar 2021   Prob (F-statistic):                    1.93e-27\n",
       "Time:                        12:12:32   Log-Likelihood:                          16.428\n",
       "No. Observations:                  20   AIC:                                     -26.86\n",
       "Df Residuals:                      17   BIC:                                     -23.87\n",
       "Df Model:                           3                                                  \n",
       "Covariance Type:            nonrobust                                                  \n",
       "==============================================================================\n",
       "                 coef    std err          t      P>|t|      [0.025      0.975]\n",
       "------------------------------------------------------------------------------\n",
       "x1             1.4306      0.011    124.709      0.000       1.406       1.455\n",
       "x2             0.0465      0.009      5.433      0.000       0.028       0.065\n",
       "x3             1.2237      0.011    108.234      0.000       1.200       1.248\n",
       "==============================================================================\n",
       "Omnibus:                        1.016   Durbin-Watson:                   2.723\n",
       "Prob(Omnibus):                  0.602   Jarque-Bera (JB):                0.765\n",
       "Skew:                           0.053   Prob(JB):                        0.682\n",
       "Kurtosis:                       2.048   Cond. No.                         1.34\n",
       "==============================================================================\n",
       "\n",
       "Notes:\n",
       "[1] R² is computed without centering (uncentered) since the model does not contain a constant.\n",
       "[2] Standard Errors assume that the covariance matrix of the errors is correctly specified.\n",
       "\"\"\""
      ]
     },
     "metadata": {},
     "output_type": "display_data"
    },
    {
     "data": {
      "text/plain": [
       "<statsmodels.regression.linear_model.RegressionResultsWrapper at 0x19f04c3ea30>"
      ]
     },
     "execution_count": 11,
     "metadata": {},
     "output_type": "execute_result"
    }
   ],
   "source": [
    "Z = np.hstack([z0.reshape(-1,1), z1.reshape(-1,1), z2.reshape(-1,1)])\n",
    "tb.linear_model(Z, x3, add_constant=False)"
   ]
  },
  {
   "cell_type": "markdown",
   "id": "agreed-gabriel",
   "metadata": {},
   "source": [
    "Finally to obtain the *multivariate* regression coefficient for Y on x3, we get the residual from the above projections and regress Y on that"
   ]
  },
  {
   "cell_type": "code",
   "execution_count": 12,
   "id": "driven-carpet",
   "metadata": {},
   "outputs": [],
   "source": [
    "z3 = x3 - gamma03*z0 - gamma13*z1 - gamma23*z2"
   ]
  },
  {
   "cell_type": "code",
   "execution_count": 13,
   "id": "seven-portal",
   "metadata": {},
   "outputs": [
    {
     "data": {
      "text/html": [
       "<table class=\"simpletable\">\n",
       "<caption>OLS Regression Results</caption>\n",
       "<tr>\n",
       "  <th>Dep. Variable:</th>            <td>y</td>        <th>  R-squared (uncentered):</th>      <td>   0.002</td>\n",
       "</tr>\n",
       "<tr>\n",
       "  <th>Model:</th>                   <td>OLS</td>       <th>  Adj. R-squared (uncentered):</th> <td>  -0.050</td>\n",
       "</tr>\n",
       "<tr>\n",
       "  <th>Method:</th>             <td>Least Squares</td>  <th>  F-statistic:       </th>          <td> 0.04357</td>\n",
       "</tr>\n",
       "<tr>\n",
       "  <th>Date:</th>             <td>Fri, 05 Mar 2021</td> <th>  Prob (F-statistic):</th>           <td> 0.837</td> \n",
       "</tr>\n",
       "<tr>\n",
       "  <th>Time:</th>                 <td>12:12:33</td>     <th>  Log-Likelihood:    </th>          <td> -82.993</td>\n",
       "</tr>\n",
       "<tr>\n",
       "  <th>No. Observations:</th>      <td>    20</td>      <th>  AIC:               </th>          <td>   168.0</td>\n",
       "</tr>\n",
       "<tr>\n",
       "  <th>Df Residuals:</th>          <td>    19</td>      <th>  BIC:               </th>          <td>   169.0</td>\n",
       "</tr>\n",
       "<tr>\n",
       "  <th>Df Model:</th>              <td>     1</td>      <th>                     </th>              <td> </td>   \n",
       "</tr>\n",
       "<tr>\n",
       "  <th>Covariance Type:</th>      <td>nonrobust</td>    <th>                     </th>              <td> </td>   \n",
       "</tr>\n",
       "</table>\n",
       "<table class=\"simpletable\">\n",
       "<tr>\n",
       "   <td></td>     <th>coef</th>     <th>std err</th>      <th>t</th>      <th>P>|t|</th>  <th>[0.025</th>    <th>0.975]</th>  \n",
       "</tr>\n",
       "<tr>\n",
       "  <th>x1</th> <td>    6.9042</td> <td>   33.076</td> <td>    0.209</td> <td> 0.837</td> <td>  -62.324</td> <td>   76.133</td>\n",
       "</tr>\n",
       "</table>\n",
       "<table class=\"simpletable\">\n",
       "<tr>\n",
       "  <th>Omnibus:</th>       <td> 0.242</td> <th>  Durbin-Watson:     </th> <td>   1.913</td>\n",
       "</tr>\n",
       "<tr>\n",
       "  <th>Prob(Omnibus):</th> <td> 0.886</td> <th>  Jarque-Bera (JB):  </th> <td>   0.332</td>\n",
       "</tr>\n",
       "<tr>\n",
       "  <th>Skew:</th>          <td> 0.220</td> <th>  Prob(JB):          </th> <td>   0.847</td>\n",
       "</tr>\n",
       "<tr>\n",
       "  <th>Kurtosis:</th>      <td> 2.547</td> <th>  Cond. No.          </th> <td>    1.00</td>\n",
       "</tr>\n",
       "</table><br/><br/>Notes:<br/>[1] R² is computed without centering (uncentered) since the model does not contain a constant.<br/>[2] Standard Errors assume that the covariance matrix of the errors is correctly specified."
      ],
      "text/plain": [
       "<class 'statsmodels.iolib.summary.Summary'>\n",
       "\"\"\"\n",
       "                                 OLS Regression Results                                \n",
       "=======================================================================================\n",
       "Dep. Variable:                      y   R-squared (uncentered):                   0.002\n",
       "Model:                            OLS   Adj. R-squared (uncentered):             -0.050\n",
       "Method:                 Least Squares   F-statistic:                            0.04357\n",
       "Date:                Fri, 05 Mar 2021   Prob (F-statistic):                       0.837\n",
       "Time:                        12:12:33   Log-Likelihood:                         -82.993\n",
       "No. Observations:                  20   AIC:                                      168.0\n",
       "Df Residuals:                      19   BIC:                                      169.0\n",
       "Df Model:                           1                                                  \n",
       "Covariance Type:            nonrobust                                                  \n",
       "==============================================================================\n",
       "                 coef    std err          t      P>|t|      [0.025      0.975]\n",
       "------------------------------------------------------------------------------\n",
       "x1             6.9042     33.076      0.209      0.837     -62.324      76.133\n",
       "==============================================================================\n",
       "Omnibus:                        0.242   Durbin-Watson:                   1.913\n",
       "Prob(Omnibus):                  0.886   Jarque-Bera (JB):                0.332\n",
       "Skew:                           0.220   Prob(JB):                        0.847\n",
       "Kurtosis:                       2.547   Cond. No.                         1.00\n",
       "==============================================================================\n",
       "\n",
       "Notes:\n",
       "[1] R² is computed without centering (uncentered) since the model does not contain a constant.\n",
       "[2] Standard Errors assume that the covariance matrix of the errors is correctly specified.\n",
       "\"\"\""
      ]
     },
     "metadata": {},
     "output_type": "display_data"
    },
    {
     "data": {
      "text/plain": [
       "<statsmodels.regression.linear_model.RegressionResultsWrapper at 0x19f04b8b070>"
      ]
     },
     "execution_count": 13,
     "metadata": {},
     "output_type": "execute_result"
    }
   ],
   "source": [
    "tb.linear_model(z3, Y, add_constant=False)"
   ]
  },
  {
   "cell_type": "markdown",
   "id": "severe-signature",
   "metadata": {},
   "source": [
    "which equivalently is just the projection of Y on z3:"
   ]
  },
  {
   "cell_type": "code",
   "execution_count": 14,
   "id": "numerous-irish",
   "metadata": {},
   "outputs": [
    {
     "data": {
      "text/plain": [
       "6.90417306413922"
      ]
     },
     "execution_count": 14,
     "metadata": {},
     "output_type": "execute_result"
    }
   ],
   "source": [
    "gamma_factor(z3, Y)"
   ]
  },
  {
   "cell_type": "markdown",
   "id": "elect-dover",
   "metadata": {},
   "source": [
    "This can indeed be done for each input variable"
   ]
  },
  {
   "cell_type": "markdown",
   "id": "funded-conversation",
   "metadata": {},
   "source": [
    "## Successive orthogonalization appraoch - all together"
   ]
  },
  {
   "cell_type": "code",
   "execution_count": 15,
   "id": "crude-generic",
   "metadata": {},
   "outputs": [],
   "source": [
    "def get_residual_for(vec, other_vecs: List[np.array]):\n",
    "    zs = gram_schmidt(other_vecs)\n",
    "    res = vec.copy()\n",
    "    for z in zs:\n",
    "        res -= gamma_factor(z,vec)*z\n",
    "    return res\n",
    "\n",
    "def get_multivariate_regression_coeff(Y, vec, other_vecs):\n",
    "    resid = get_residual_for(vec, other_vecs)\n",
    "    return gamma_factor(resid, Y)"
   ]
  },
  {
   "cell_type": "code",
   "execution_count": 16,
   "id": "rental-modeling",
   "metadata": {},
   "outputs": [],
   "source": [
    "inputs = [x0, x1, x2, x3]"
   ]
  },
  {
   "cell_type": "code",
   "execution_count": 17,
   "id": "minimal-democrat",
   "metadata": {},
   "outputs": [
    {
     "name": "stdout",
     "output_type": "stream",
     "text": [
      "3.1023263953811218\n",
      "-6.442841030182411\n",
      "-7.1625682861932365\n",
      "6.90417306413922\n"
     ]
    }
   ],
   "source": [
    "for vec in inputs:\n",
    "    print(get_multivariate_regression_coeff(Y, vec, [v for v in inputs if not np.isclose(v, vec).all()]))"
   ]
  },
  {
   "cell_type": "markdown",
   "id": "otherwise-shepherd",
   "metadata": {},
   "source": [
    "For comparison"
   ]
  },
  {
   "cell_type": "code",
   "execution_count": 18,
   "id": "labeled-psychiatry",
   "metadata": {},
   "outputs": [
    {
     "data": {
      "text/html": [
       "<table class=\"simpletable\">\n",
       "<caption>OLS Regression Results</caption>\n",
       "<tr>\n",
       "  <th>Dep. Variable:</th>            <td>y</td>        <th>  R-squared (uncentered):</th>      <td>   0.996</td>\n",
       "</tr>\n",
       "<tr>\n",
       "  <th>Model:</th>                   <td>OLS</td>       <th>  Adj. R-squared (uncentered):</th> <td>   0.995</td>\n",
       "</tr>\n",
       "<tr>\n",
       "  <th>Method:</th>             <td>Least Squares</td>  <th>  F-statistic:       </th>          <td>   947.8</td>\n",
       "</tr>\n",
       "<tr>\n",
       "  <th>Date:</th>             <td>Fri, 05 Mar 2021</td> <th>  Prob (F-statistic):</th>          <td>8.72e-19</td>\n",
       "</tr>\n",
       "<tr>\n",
       "  <th>Time:</th>                 <td>12:12:37</td>     <th>  Log-Likelihood:    </th>          <td> -28.294</td>\n",
       "</tr>\n",
       "<tr>\n",
       "  <th>No. Observations:</th>      <td>    20</td>      <th>  AIC:               </th>          <td>   64.59</td>\n",
       "</tr>\n",
       "<tr>\n",
       "  <th>Df Residuals:</th>          <td>    16</td>      <th>  BIC:               </th>          <td>   68.57</td>\n",
       "</tr>\n",
       "<tr>\n",
       "  <th>Df Model:</th>              <td>     4</td>      <th>                     </th>              <td> </td>   \n",
       "</tr>\n",
       "<tr>\n",
       "  <th>Covariance Type:</th>      <td>nonrobust</td>    <th>                     </th>              <td> </td>   \n",
       "</tr>\n",
       "</table>\n",
       "<table class=\"simpletable\">\n",
       "<tr>\n",
       "   <td></td>     <th>coef</th>     <th>std err</th>      <th>t</th>      <th>P>|t|</th>  <th>[0.025</th>    <th>0.975]</th>  \n",
       "</tr>\n",
       "<tr>\n",
       "  <th>x1</th> <td>    3.1023</td> <td>    0.437</td> <td>    7.092</td> <td> 0.000</td> <td>    2.175</td> <td>    4.030</td>\n",
       "</tr>\n",
       "<tr>\n",
       "  <th>x2</th> <td>   -6.4428</td> <td>    0.591</td> <td>  -10.908</td> <td> 0.000</td> <td>   -7.695</td> <td>   -5.191</td>\n",
       "</tr>\n",
       "<tr>\n",
       "  <th>x3</th> <td>   -7.1626</td> <td>    2.865</td> <td>   -2.500</td> <td> 0.024</td> <td>  -13.235</td> <td>   -1.090</td>\n",
       "</tr>\n",
       "<tr>\n",
       "  <th>x4</th> <td>    6.9042</td> <td>    2.339</td> <td>    2.951</td> <td> 0.009</td> <td>    1.945</td> <td>   11.863</td>\n",
       "</tr>\n",
       "</table>\n",
       "<table class=\"simpletable\">\n",
       "<tr>\n",
       "  <th>Omnibus:</th>       <td> 1.391</td> <th>  Durbin-Watson:     </th> <td>   2.427</td>\n",
       "</tr>\n",
       "<tr>\n",
       "  <th>Prob(Omnibus):</th> <td> 0.499</td> <th>  Jarque-Bera (JB):  </th> <td>   1.093</td>\n",
       "</tr>\n",
       "<tr>\n",
       "  <th>Skew:</th>          <td>-0.354</td> <th>  Prob(JB):          </th> <td>   0.579</td>\n",
       "</tr>\n",
       "<tr>\n",
       "  <th>Kurtosis:</th>      <td> 2.099</td> <th>  Cond. No.          </th> <td>    89.3</td>\n",
       "</tr>\n",
       "</table><br/><br/>Notes:<br/>[1] R² is computed without centering (uncentered) since the model does not contain a constant.<br/>[2] Standard Errors assume that the covariance matrix of the errors is correctly specified."
      ],
      "text/plain": [
       "<class 'statsmodels.iolib.summary.Summary'>\n",
       "\"\"\"\n",
       "                                 OLS Regression Results                                \n",
       "=======================================================================================\n",
       "Dep. Variable:                      y   R-squared (uncentered):                   0.996\n",
       "Model:                            OLS   Adj. R-squared (uncentered):              0.995\n",
       "Method:                 Least Squares   F-statistic:                              947.8\n",
       "Date:                Fri, 05 Mar 2021   Prob (F-statistic):                    8.72e-19\n",
       "Time:                        12:12:37   Log-Likelihood:                         -28.294\n",
       "No. Observations:                  20   AIC:                                      64.59\n",
       "Df Residuals:                      16   BIC:                                      68.57\n",
       "Df Model:                           4                                                  \n",
       "Covariance Type:            nonrobust                                                  \n",
       "==============================================================================\n",
       "                 coef    std err          t      P>|t|      [0.025      0.975]\n",
       "------------------------------------------------------------------------------\n",
       "x1             3.1023      0.437      7.092      0.000       2.175       4.030\n",
       "x2            -6.4428      0.591    -10.908      0.000      -7.695      -5.191\n",
       "x3            -7.1626      2.865     -2.500      0.024     -13.235      -1.090\n",
       "x4             6.9042      2.339      2.951      0.009       1.945      11.863\n",
       "==============================================================================\n",
       "Omnibus:                        1.391   Durbin-Watson:                   2.427\n",
       "Prob(Omnibus):                  0.499   Jarque-Bera (JB):                1.093\n",
       "Skew:                          -0.354   Prob(JB):                        0.579\n",
       "Kurtosis:                       2.099   Cond. No.                         89.3\n",
       "==============================================================================\n",
       "\n",
       "Notes:\n",
       "[1] R² is computed without centering (uncentered) since the model does not contain a constant.\n",
       "[2] Standard Errors assume that the covariance matrix of the errors is correctly specified.\n",
       "\"\"\""
      ]
     },
     "metadata": {},
     "output_type": "display_data"
    },
    {
     "data": {
      "text/plain": [
       "<statsmodels.regression.linear_model.RegressionResultsWrapper at 0x19f04c79f40>"
      ]
     },
     "execution_count": 18,
     "metadata": {},
     "output_type": "execute_result"
    }
   ],
   "source": [
    "tb.linear_model(X, Y, add_constant=False)"
   ]
  },
  {
   "cell_type": "markdown",
   "id": "following-italian",
   "metadata": {},
   "source": [
    "# Single pass -  QR decomposition"
   ]
  },
  {
   "cell_type": "markdown",
   "id": "lasting-variance",
   "metadata": {},
   "source": [
    "Do gramm schmidt"
   ]
  },
  {
   "cell_type": "code",
   "execution_count": 19,
   "id": "scheduled-anxiety",
   "metadata": {},
   "outputs": [],
   "source": [
    "xs = [x0, x1, x2, x3]\n",
    "zs = gram_schmidt(xs)"
   ]
  },
  {
   "cell_type": "code",
   "execution_count": 52,
   "id": "modified-browse",
   "metadata": {},
   "outputs": [],
   "source": [
    "Z = np.stack(zs).T"
   ]
  },
  {
   "cell_type": "code",
   "execution_count": 53,
   "id": "robust-reset",
   "metadata": {},
   "outputs": [],
   "source": [
    "def gamma(i,j):\n",
    "    if i>j:\n",
    "        return 0\n",
    "    else:\n",
    "        return gamma_factor(zs[i], xs[j])"
   ]
  },
  {
   "cell_type": "code",
   "execution_count": 54,
   "id": "apparent-anaheim",
   "metadata": {},
   "outputs": [],
   "source": [
    "Gamma = np.zeros((4,4))\n",
    "for i in range(4):\n",
    "    for j in range(4):\n",
    "        Gamma[i,j] = gamma(i,j)"
   ]
  },
  {
   "cell_type": "code",
   "execution_count": 55,
   "id": "downtown-wesley",
   "metadata": {},
   "outputs": [
    {
     "data": {
      "text/plain": [
       "array([[ 1.        ,  0.53291728,  1.19888126,  1.43064317],\n",
       "       [ 0.        ,  1.        , -0.16621595,  0.04650219],\n",
       "       [ 0.        ,  0.        ,  1.        ,  1.22372613],\n",
       "       [ 0.        ,  0.        ,  0.        ,  1.        ]])"
      ]
     },
     "execution_count": 55,
     "metadata": {},
     "output_type": "execute_result"
    }
   ],
   "source": [
    "Gamma"
   ]
  },
  {
   "cell_type": "markdown",
   "id": "cordless-going",
   "metadata": {},
   "source": [
    "Check $ X = Z\\Gamma $"
   ]
  },
  {
   "cell_type": "code",
   "execution_count": 56,
   "id": "physical-azerbaijan",
   "metadata": {},
   "outputs": [
    {
     "data": {
      "text/plain": [
       "True"
      ]
     },
     "execution_count": 56,
     "metadata": {},
     "output_type": "execute_result"
    }
   ],
   "source": [
    "np.allclose(Z@Gamma,X)"
   ]
  },
  {
   "cell_type": "markdown",
   "id": "italic-vintage",
   "metadata": {},
   "source": [
    "Turn into QR"
   ]
  },
  {
   "cell_type": "code",
   "execution_count": 78,
   "id": "increasing-tonight",
   "metadata": {},
   "outputs": [],
   "source": [
    "# D = np.round(Z.T.dot(Z),10)\n",
    "D = np.diag([np.sqrt(z.dot(z)) for z in zs])\n",
    "D_inv = np.diag([1/np.sqrt(z.dot(z)) for z in zs])"
   ]
  },
  {
   "cell_type": "code",
   "execution_count": 79,
   "id": "bottom-limitation",
   "metadata": {},
   "outputs": [
    {
     "data": {
      "text/plain": [
       "array([[1., 0., 0., 0.],\n",
       "       [0., 1., 0., 0.],\n",
       "       [0., 0., 1., 0.],\n",
       "       [0., 0., 0., 1.]])"
      ]
     },
     "execution_count": 79,
     "metadata": {},
     "output_type": "execute_result"
    }
   ],
   "source": [
    "D_inv@D"
   ]
  },
  {
   "cell_type": "code",
   "execution_count": 80,
   "id": "earned-sharp",
   "metadata": {},
   "outputs": [],
   "source": [
    "Q = Z@D_inv\n",
    "R = D@Gamma"
   ]
  },
  {
   "cell_type": "markdown",
   "id": "standing-girlfriend",
   "metadata": {},
   "source": [
    "check $X = QR$"
   ]
  },
  {
   "cell_type": "code",
   "execution_count": 81,
   "id": "mental-ceremony",
   "metadata": {},
   "outputs": [
    {
     "data": {
      "text/plain": [
       "True"
      ]
     },
     "execution_count": 81,
     "metadata": {},
     "output_type": "execute_result"
    }
   ],
   "source": [
    "np.allclose(Q@R,X)"
   ]
  },
  {
   "cell_type": "code",
   "execution_count": 85,
   "id": "sublime-hello",
   "metadata": {},
   "outputs": [
    {
     "data": {
      "text/plain": [
       "((20, 4), (4, 4))"
      ]
     },
     "execution_count": 85,
     "metadata": {},
     "output_type": "execute_result"
    }
   ],
   "source": [
    "Q.shape, R.shape"
   ]
  },
  {
   "cell_type": "markdown",
   "id": "hazardous-virus",
   "metadata": {},
   "source": [
    "check $Q^TQ = I$"
   ]
  },
  {
   "cell_type": "code",
   "execution_count": 86,
   "id": "modular-cabinet",
   "metadata": {},
   "outputs": [
    {
     "data": {
      "text/plain": [
       "True"
      ]
     },
     "execution_count": 86,
     "metadata": {},
     "output_type": "execute_result"
    }
   ],
   "source": [
    "np.allclose(Q.T@Q, np.eye(4))"
   ]
  },
  {
   "cell_type": "markdown",
   "id": "based-field",
   "metadata": {},
   "source": [
    "Now solve: $ R\\hat{\\beta} = Q^Ty $"
   ]
  },
  {
   "cell_type": "code",
   "execution_count": 88,
   "id": "extra-syndication",
   "metadata": {},
   "outputs": [
    {
     "data": {
      "text/plain": [
       "6.904173064142121"
      ]
     },
     "execution_count": 88,
     "metadata": {},
     "output_type": "execute_result"
    }
   ],
   "source": [
    "b4 = (Q.T@Y)[-1]/R[-1,-1]\n",
    "b4"
   ]
  },
  {
   "cell_type": "code",
   "execution_count": 92,
   "id": "explicit-charles",
   "metadata": {},
   "outputs": [
    {
     "data": {
      "text/plain": [
       "-7.162568286196149"
      ]
     },
     "execution_count": 92,
     "metadata": {},
     "output_type": "execute_result"
    }
   ],
   "source": [
    "b3 =  ((Q.T@Y)[-2] - b4*R[-2,-1])/R[-2,-2]\n",
    "b3"
   ]
  },
  {
   "cell_type": "markdown",
   "id": "endangered-organic",
   "metadata": {},
   "source": [
    "etc. etc"
   ]
  },
  {
   "cell_type": "markdown",
   "id": "blocked-thermal",
   "metadata": {},
   "source": [
    "# Cleaner QR approach"
   ]
  },
  {
   "cell_type": "markdown",
   "id": "nervous-judge",
   "metadata": {},
   "source": [
    "Note: numpy has a QR decomposition"
   ]
  },
  {
   "cell_type": "code",
   "execution_count": 122,
   "id": "stylish-aaron",
   "metadata": {},
   "outputs": [],
   "source": [
    "Q, R = np.linalg.qr(X)"
   ]
  },
  {
   "cell_type": "code",
   "execution_count": 123,
   "id": "configured-production",
   "metadata": {},
   "outputs": [],
   "source": [
    "out = Q.T@Y"
   ]
  },
  {
   "cell_type": "code",
   "execution_count": 124,
   "id": "defined-occasion",
   "metadata": {},
   "outputs": [],
   "source": [
    "betas = np.zeros(4)"
   ]
  },
  {
   "cell_type": "code",
   "execution_count": 125,
   "id": "integrated-syracuse",
   "metadata": {},
   "outputs": [],
   "source": [
    "for i in [3,2,1,0]:\n",
    "    pivot = R[i,i]\n",
    "    resp = out[i].copy()\n",
    "    for j in range(i,4):\n",
    "        resp-=betas[j]*R[i,j]\n",
    "    betas[i] = (resp)/pivot"
   ]
  },
  {
   "cell_type": "code",
   "execution_count": 126,
   "id": "mounted-palestinian",
   "metadata": {},
   "outputs": [
    {
     "data": {
      "text/plain": [
       "array([ 3.1023264 , -6.44284103, -7.16256829,  6.90417306])"
      ]
     },
     "execution_count": 126,
     "metadata": {},
     "output_type": "execute_result"
    }
   ],
   "source": [
    "betas"
   ]
  },
  {
   "cell_type": "markdown",
   "id": "undefined-latino",
   "metadata": {},
   "source": [
    "For comparison"
   ]
  },
  {
   "cell_type": "code",
   "execution_count": 127,
   "id": "adolescent-chassis",
   "metadata": {},
   "outputs": [
    {
     "data": {
      "text/html": [
       "<table class=\"simpletable\">\n",
       "<caption>OLS Regression Results</caption>\n",
       "<tr>\n",
       "  <th>Dep. Variable:</th>            <td>y</td>        <th>  R-squared (uncentered):</th>      <td>   0.996</td>\n",
       "</tr>\n",
       "<tr>\n",
       "  <th>Model:</th>                   <td>OLS</td>       <th>  Adj. R-squared (uncentered):</th> <td>   0.995</td>\n",
       "</tr>\n",
       "<tr>\n",
       "  <th>Method:</th>             <td>Least Squares</td>  <th>  F-statistic:       </th>          <td>   947.8</td>\n",
       "</tr>\n",
       "<tr>\n",
       "  <th>Date:</th>             <td>Fri, 05 Mar 2021</td> <th>  Prob (F-statistic):</th>          <td>8.72e-19</td>\n",
       "</tr>\n",
       "<tr>\n",
       "  <th>Time:</th>                 <td>13:54:24</td>     <th>  Log-Likelihood:    </th>          <td> -28.294</td>\n",
       "</tr>\n",
       "<tr>\n",
       "  <th>No. Observations:</th>      <td>    20</td>      <th>  AIC:               </th>          <td>   64.59</td>\n",
       "</tr>\n",
       "<tr>\n",
       "  <th>Df Residuals:</th>          <td>    16</td>      <th>  BIC:               </th>          <td>   68.57</td>\n",
       "</tr>\n",
       "<tr>\n",
       "  <th>Df Model:</th>              <td>     4</td>      <th>                     </th>              <td> </td>   \n",
       "</tr>\n",
       "<tr>\n",
       "  <th>Covariance Type:</th>      <td>nonrobust</td>    <th>                     </th>              <td> </td>   \n",
       "</tr>\n",
       "</table>\n",
       "<table class=\"simpletable\">\n",
       "<tr>\n",
       "   <td></td>     <th>coef</th>     <th>std err</th>      <th>t</th>      <th>P>|t|</th>  <th>[0.025</th>    <th>0.975]</th>  \n",
       "</tr>\n",
       "<tr>\n",
       "  <th>x1</th> <td>    3.1023</td> <td>    0.437</td> <td>    7.092</td> <td> 0.000</td> <td>    2.175</td> <td>    4.030</td>\n",
       "</tr>\n",
       "<tr>\n",
       "  <th>x2</th> <td>   -6.4428</td> <td>    0.591</td> <td>  -10.908</td> <td> 0.000</td> <td>   -7.695</td> <td>   -5.191</td>\n",
       "</tr>\n",
       "<tr>\n",
       "  <th>x3</th> <td>   -7.1626</td> <td>    2.865</td> <td>   -2.500</td> <td> 0.024</td> <td>  -13.235</td> <td>   -1.090</td>\n",
       "</tr>\n",
       "<tr>\n",
       "  <th>x4</th> <td>    6.9042</td> <td>    2.339</td> <td>    2.951</td> <td> 0.009</td> <td>    1.945</td> <td>   11.863</td>\n",
       "</tr>\n",
       "</table>\n",
       "<table class=\"simpletable\">\n",
       "<tr>\n",
       "  <th>Omnibus:</th>       <td> 1.391</td> <th>  Durbin-Watson:     </th> <td>   2.427</td>\n",
       "</tr>\n",
       "<tr>\n",
       "  <th>Prob(Omnibus):</th> <td> 0.499</td> <th>  Jarque-Bera (JB):  </th> <td>   1.093</td>\n",
       "</tr>\n",
       "<tr>\n",
       "  <th>Skew:</th>          <td>-0.354</td> <th>  Prob(JB):          </th> <td>   0.579</td>\n",
       "</tr>\n",
       "<tr>\n",
       "  <th>Kurtosis:</th>      <td> 2.099</td> <th>  Cond. No.          </th> <td>    89.3</td>\n",
       "</tr>\n",
       "</table><br/><br/>Notes:<br/>[1] R² is computed without centering (uncentered) since the model does not contain a constant.<br/>[2] Standard Errors assume that the covariance matrix of the errors is correctly specified."
      ],
      "text/plain": [
       "<class 'statsmodels.iolib.summary.Summary'>\n",
       "\"\"\"\n",
       "                                 OLS Regression Results                                \n",
       "=======================================================================================\n",
       "Dep. Variable:                      y   R-squared (uncentered):                   0.996\n",
       "Model:                            OLS   Adj. R-squared (uncentered):              0.995\n",
       "Method:                 Least Squares   F-statistic:                              947.8\n",
       "Date:                Fri, 05 Mar 2021   Prob (F-statistic):                    8.72e-19\n",
       "Time:                        13:54:24   Log-Likelihood:                         -28.294\n",
       "No. Observations:                  20   AIC:                                      64.59\n",
       "Df Residuals:                      16   BIC:                                      68.57\n",
       "Df Model:                           4                                                  \n",
       "Covariance Type:            nonrobust                                                  \n",
       "==============================================================================\n",
       "                 coef    std err          t      P>|t|      [0.025      0.975]\n",
       "------------------------------------------------------------------------------\n",
       "x1             3.1023      0.437      7.092      0.000       2.175       4.030\n",
       "x2            -6.4428      0.591    -10.908      0.000      -7.695      -5.191\n",
       "x3            -7.1626      2.865     -2.500      0.024     -13.235      -1.090\n",
       "x4             6.9042      2.339      2.951      0.009       1.945      11.863\n",
       "==============================================================================\n",
       "Omnibus:                        1.391   Durbin-Watson:                   2.427\n",
       "Prob(Omnibus):                  0.499   Jarque-Bera (JB):                1.093\n",
       "Skew:                          -0.354   Prob(JB):                        0.579\n",
       "Kurtosis:                       2.099   Cond. No.                         89.3\n",
       "==============================================================================\n",
       "\n",
       "Notes:\n",
       "[1] R² is computed without centering (uncentered) since the model does not contain a constant.\n",
       "[2] Standard Errors assume that the covariance matrix of the errors is correctly specified.\n",
       "\"\"\""
      ]
     },
     "metadata": {},
     "output_type": "display_data"
    },
    {
     "data": {
      "text/plain": [
       "<statsmodels.regression.linear_model.RegressionResultsWrapper at 0x19f06604ee0>"
      ]
     },
     "execution_count": 127,
     "metadata": {},
     "output_type": "execute_result"
    }
   ],
   "source": [
    "tb.linear_model(X, Y, add_constant=False)"
   ]
  },
  {
   "cell_type": "markdown",
   "id": "loaded-brazil",
   "metadata": {},
   "source": [
    "## timing"
   ]
  },
  {
   "cell_type": "code",
   "execution_count": 132,
   "id": "limited-collection",
   "metadata": {},
   "outputs": [
    {
     "name": "stdout",
     "output_type": "stream",
     "text": [
      "52.8 µs ± 2.29 µs per loop (mean ± std. dev. of 7 runs, 10000 loops each)\n"
     ]
    }
   ],
   "source": [
    "%%timeit\n",
    "Q, R = np.linalg.qr(X)\n",
    "out = Q.T@Y\n",
    "betas = np.zeros(4)\n",
    "for i in [3,2,1,0]:\n",
    "    pivot = R[i,i]\n",
    "    resp = out[i].copy()\n",
    "    for j in range(i,4):\n",
    "        resp-=betas[j]*R[i,j]\n",
    "    betas[i] = (resp)/pivot"
   ]
  },
  {
   "cell_type": "code",
   "execution_count": 133,
   "id": "gentle-venue",
   "metadata": {},
   "outputs": [
    {
     "name": "stdout",
     "output_type": "stream",
     "text": [
      "298 µs ± 6.06 µs per loop (mean ± std. dev. of 7 runs, 1000 loops each)\n"
     ]
    }
   ],
   "source": [
    "%%timeit\n",
    "tb.linear_model(X, Y, add_constant=False, verbose=False)"
   ]
  },
  {
   "cell_type": "markdown",
   "id": "infrared-conclusion",
   "metadata": {},
   "source": [
    "Certainly the one below is computing more stuff"
   ]
  }
 ],
 "metadata": {
  "kernelspec": {
   "display_name": "Python 3",
   "language": "python",
   "name": "python3"
  },
  "language_info": {
   "codemirror_mode": {
    "name": "ipython",
    "version": 3
   },
   "file_extension": ".py",
   "mimetype": "text/x-python",
   "name": "python",
   "nbconvert_exporter": "python",
   "pygments_lexer": "ipython3",
   "version": "3.8.5"
  }
 },
 "nbformat": 4,
 "nbformat_minor": 5
}
