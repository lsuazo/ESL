{
 "cells": [
  {
   "cell_type": "code",
   "execution_count": 1,
   "id": "enabling-fashion",
   "metadata": {},
   "outputs": [],
   "source": [
    "from functools import reduce\n",
    "from itertools import product\n",
    "\n",
    "import numpy as np\n",
    "import pandas as pd\n",
    "\n",
    "import toolbox as tb"
   ]
  },
  {
   "cell_type": "markdown",
   "id": "controlled-wheel",
   "metadata": {},
   "source": [
    "### TODO:\n",
    "- figure out if rigde/lasso is centering variables already?\n",
    "- add control over mean/variance of variables?"
   ]
  },
  {
   "cell_type": "markdown",
   "id": "similar-chair",
   "metadata": {},
   "source": [
    "# Define functions"
   ]
  },
  {
   "cell_type": "code",
   "execution_count": 2,
   "id": "banner-corporation",
   "metadata": {},
   "outputs": [],
   "source": [
    "def generate_XY(N, sigma, num_non_correlated=1, num_spurious = 0, num_correlated = 0):\n",
    "    \"\"\"\n",
    "    Used to generate data with different properties\n",
    "    \"\"\"\n",
    "    \n",
    "    # create non-correlated gaussian data\n",
    "    S = np.eye(num_non_correlated)\n",
    "    X = np.random.multivariate_normal(np.zeros(num_non_correlated), S, N)\n",
    "    \n",
    "    # Add correlated indicators\n",
    "    if num_correlated > 0:\n",
    "        A = np.random.randint(-5, 5, size=(num_correlated,num_correlated))\n",
    "        S2 = A.T@A\n",
    "        X2 = np.random.multivariate_normal(np.zeros(num_correlated),S2,N)\n",
    "        X = np.hstack([X, X2])\n",
    "        \n",
    "    # create a Y \n",
    "    e = np.random.normal(0, sigma**2, N)\n",
    "    betas = np.random.binomial(10, 0.5, num_non_correlated + num_correlated) - 5\n",
    "    Y = (X@betas) + e\n",
    "    \n",
    "    if num_spurious > 0:\n",
    "        X3 = np.random.multivariate_normal(np.zeros(num_spurious), np.eye(num_spurious), N)\n",
    "        X = np.hstack([X, X3])\n",
    "    return X,Y"
   ]
  },
  {
   "cell_type": "code",
   "execution_count": 3,
   "id": "operating-collar",
   "metadata": {},
   "outputs": [],
   "source": [
    "def fit_models(X, Y, model_parms, num_cv_iterations = 10): \n",
    "    \"\"\"\n",
    "    Split data, fit several models, rinse and repeat\n",
    "    \"\"\"\n",
    "    in_sample_scores = []\n",
    "    out_sample_scores = []\n",
    "\n",
    "    for _ in range(num_cv_iterations):\n",
    "        X_train, X_test, Y_train, Y_test = tb.train_test_split(X,Y, test_fraction=0.25)\n",
    "        in_sample = []\n",
    "        out_sample = []\n",
    "\n",
    "        for mod_type, l in model_parms:\n",
    "            mod = tb.regularized_linear_model(X_train,Y_train, mod_type, l)\n",
    "            in_sample.append(mod.score(X_train,Y_train))\n",
    "            out_sample.append(mod.score(X_test, Y_test))\n",
    "            \n",
    "        in_sample_scores.append(in_sample)\n",
    "        out_sample_scores.append(out_sample)\n",
    "\n",
    "    out_sample_scores = pd.DataFrame(out_sample_scores).T\n",
    "    in_sample_scores = pd.DataFrame(in_sample_scores).T\n",
    "    idx = pd.MultiIndex.from_tuples(model_parms, names=['model', 'lambda'])\n",
    "    out_sample_scores.index = idx\n",
    "    in_sample_scores.index = idx\n",
    "    return in_sample_scores, out_sample_scores"
   ]
  },
  {
   "cell_type": "markdown",
   "id": "spread-bhutan",
   "metadata": {},
   "source": [
    "### Question: is sklearn centering automatically?"
   ]
  },
  {
   "cell_type": "code",
   "execution_count": 17,
   "id": "available-offense",
   "metadata": {},
   "outputs": [],
   "source": [
    "np.random.seed(43)\n",
    "X,Y = generate_XY(N=100, sigma=3, num_non_correlated=5, num_spurious=0, num_correlated=0)"
   ]
  },
  {
   "cell_type": "markdown",
   "id": "viral-breakfast",
   "metadata": {},
   "source": [
    "First test closed from OLS regression"
   ]
  },
  {
   "cell_type": "code",
   "execution_count": 22,
   "id": "excessive-worcester",
   "metadata": {},
   "outputs": [
    {
     "data": {
      "text/plain": [
       "array([ 2.17419698, -0.14421206, -0.54218838,  1.48810666, -2.78748293])"
      ]
     },
     "execution_count": 22,
     "metadata": {},
     "output_type": "execute_result"
    }
   ],
   "source": [
    "mod = tb.linear_model(X,Y, add_constant=False, verbose=False)\n",
    "mod.params"
   ]
  },
  {
   "cell_type": "code",
   "execution_count": 23,
   "id": "silver-trigger",
   "metadata": {},
   "outputs": [
    {
     "data": {
      "text/plain": [
       "array([ 2.17419698, -0.14421206, -0.54218838,  1.48810666, -2.78748293])"
      ]
     },
     "execution_count": 23,
     "metadata": {},
     "output_type": "execute_result"
    }
   ],
   "source": [
    "np.linalg.inv(X.T@X)@(X.T@Y)"
   ]
  },
  {
   "cell_type": "markdown",
   "id": "peaceful-smooth",
   "metadata": {},
   "source": [
    "Now test closed form ridge regression"
   ]
  },
  {
   "cell_type": "code",
   "execution_count": 24,
   "id": "functional-making",
   "metadata": {},
   "outputs": [],
   "source": [
    "lam = 2"
   ]
  },
  {
   "cell_type": "code",
   "execution_count": 29,
   "id": "lucky-mitchell",
   "metadata": {},
   "outputs": [
    {
     "data": {
      "text/plain": [
       "array([ 2.09534865, -0.18430095, -0.63436477,  1.49045728, -2.659303  ])"
      ]
     },
     "execution_count": 29,
     "metadata": {},
     "output_type": "execute_result"
    }
   ],
   "source": [
    "res = tb.regularized_linear_model(X,Y,'ridge',alpha=lam)\n",
    "res.coef_"
   ]
  },
  {
   "cell_type": "code",
   "execution_count": 30,
   "id": "invisible-prevention",
   "metadata": {},
   "outputs": [
    {
     "data": {
      "text/plain": [
       "array([ 2.11824516, -0.14239539, -0.54355627,  1.44481577, -2.69918465])"
      ]
     },
     "execution_count": 30,
     "metadata": {},
     "output_type": "execute_result"
    }
   ],
   "source": [
    "np.linalg.inv(X.T@X + lam*np.eye(X.shape[1]))@(X.T@Y)"
   ]
  },
  {
   "cell_type": "markdown",
   "id": "fabulous-insulin",
   "metadata": {},
   "source": [
    "Now demean"
   ]
  },
  {
   "cell_type": "code",
   "execution_count": 33,
   "id": "proved-consultation",
   "metadata": {},
   "outputs": [],
   "source": [
    "X2 = tb.demean(X)\n",
    "Y2 = tb.demean(Y)"
   ]
  },
  {
   "cell_type": "code",
   "execution_count": 34,
   "id": "agricultural-desktop",
   "metadata": {},
   "outputs": [
    {
     "data": {
      "text/plain": [
       "array([ 2.09534865, -0.18430095, -0.63436477,  1.49045728, -2.659303  ])"
      ]
     },
     "execution_count": 34,
     "metadata": {},
     "output_type": "execute_result"
    }
   ],
   "source": [
    "np.linalg.inv(X2.T@X2 + lam*np.eye(X2.shape[1]))@(X2.T@Y2)"
   ]
  },
  {
   "cell_type": "code",
   "execution_count": 36,
   "id": "american-providence",
   "metadata": {},
   "outputs": [
    {
     "data": {
      "text/plain": [
       "array([ 2.15065263, -0.18671589, -0.63451438,  1.53441799, -2.74635643])"
      ]
     },
     "execution_count": 36,
     "metadata": {},
     "output_type": "execute_result"
    }
   ],
   "source": [
    "np.linalg.inv(X2.T@X2)@(X2.T@Y2)"
   ]
  },
  {
   "cell_type": "markdown",
   "id": "oriented-intent",
   "metadata": {},
   "source": [
    "# Generate Data"
   ]
  },
  {
   "cell_type": "code",
   "execution_count": 4,
   "id": "armed-speed",
   "metadata": {},
   "outputs": [],
   "source": [
    "np.random.seed(43)\n",
    "X,Y = generate_XY(N=100, sigma=3, num_non_correlated=5, num_spurious=100, num_correlated=10)"
   ]
  },
  {
   "cell_type": "code",
   "execution_count": 5,
   "id": "stupid-greenhouse",
   "metadata": {},
   "outputs": [],
   "source": [
    "l_vals = [0, 1, 5, 10, 50, 100, 500]\n",
    "model_types = ['ridge', 'lasso']\n",
    "parms = list(product(model_types, l_vals))"
   ]
  },
  {
   "cell_type": "code",
   "execution_count": 6,
   "id": "infinite-demand",
   "metadata": {},
   "outputs": [],
   "source": [
    "np.random.seed(43)\n",
    "from warnings import catch_warnings, simplefilter\n",
    "with catch_warnings():\n",
    "    simplefilter(\"ignore\")\n",
    "    iss, oss = fit_models(X,Y, parms)"
   ]
  },
  {
   "cell_type": "code",
   "execution_count": 7,
   "id": "vocal-duncan",
   "metadata": {},
   "outputs": [
    {
     "data": {
      "text/html": [
       "<div>\n",
       "<style scoped>\n",
       "    .dataframe tbody tr th:only-of-type {\n",
       "        vertical-align: middle;\n",
       "    }\n",
       "\n",
       "    .dataframe tbody tr th {\n",
       "        vertical-align: top;\n",
       "    }\n",
       "\n",
       "    .dataframe thead th {\n",
       "        text-align: right;\n",
       "    }\n",
       "</style>\n",
       "<table border=\"1\" class=\"dataframe\">\n",
       "  <thead>\n",
       "    <tr style=\"text-align: right;\">\n",
       "      <th></th>\n",
       "      <th></th>\n",
       "      <th>In</th>\n",
       "      <th>Out</th>\n",
       "    </tr>\n",
       "    <tr>\n",
       "      <th>model</th>\n",
       "      <th>lambda</th>\n",
       "      <th></th>\n",
       "      <th></th>\n",
       "    </tr>\n",
       "  </thead>\n",
       "  <tbody>\n",
       "    <tr>\n",
       "      <th rowspan=\"7\" valign=\"top\">ridge</th>\n",
       "      <th>0</th>\n",
       "      <td>1.000000</td>\n",
       "      <td>0.726811</td>\n",
       "    </tr>\n",
       "    <tr>\n",
       "      <th>1</th>\n",
       "      <td>0.999894</td>\n",
       "      <td>0.747686</td>\n",
       "    </tr>\n",
       "    <tr>\n",
       "      <th>5</th>\n",
       "      <td>0.998595</td>\n",
       "      <td>0.789871</td>\n",
       "    </tr>\n",
       "    <tr>\n",
       "      <th>10</th>\n",
       "      <td>0.996565</td>\n",
       "      <td>0.812249</td>\n",
       "    </tr>\n",
       "    <tr>\n",
       "      <th>50</th>\n",
       "      <td>0.983594</td>\n",
       "      <td>0.852228</td>\n",
       "    </tr>\n",
       "    <tr>\n",
       "      <th>100</th>\n",
       "      <td>0.973545</td>\n",
       "      <td>0.862219</td>\n",
       "    </tr>\n",
       "    <tr>\n",
       "      <th>500</th>\n",
       "      <td>0.941590</td>\n",
       "      <td>0.861493</td>\n",
       "    </tr>\n",
       "    <tr>\n",
       "      <th rowspan=\"7\" valign=\"top\">lasso</th>\n",
       "      <th>0</th>\n",
       "      <td>1.000000</td>\n",
       "      <td>0.379258</td>\n",
       "    </tr>\n",
       "    <tr>\n",
       "      <th>1</th>\n",
       "      <td>0.959784</td>\n",
       "      <td>0.866054</td>\n",
       "    </tr>\n",
       "    <tr>\n",
       "      <th>5</th>\n",
       "      <td>0.926956</td>\n",
       "      <td>0.878112</td>\n",
       "    </tr>\n",
       "    <tr>\n",
       "      <th>10</th>\n",
       "      <td>0.920004</td>\n",
       "      <td>0.872615</td>\n",
       "    </tr>\n",
       "    <tr>\n",
       "      <th>50</th>\n",
       "      <td>0.797404</td>\n",
       "      <td>0.744531</td>\n",
       "    </tr>\n",
       "    <tr>\n",
       "      <th>100</th>\n",
       "      <td>0.509634</td>\n",
       "      <td>0.418049</td>\n",
       "    </tr>\n",
       "    <tr>\n",
       "      <th>500</th>\n",
       "      <td>0.000000</td>\n",
       "      <td>-0.120880</td>\n",
       "    </tr>\n",
       "  </tbody>\n",
       "</table>\n",
       "</div>"
      ],
      "text/plain": [
       "                    In       Out\n",
       "model lambda                    \n",
       "ridge 0       1.000000  0.726811\n",
       "      1       0.999894  0.747686\n",
       "      5       0.998595  0.789871\n",
       "      10      0.996565  0.812249\n",
       "      50      0.983594  0.852228\n",
       "      100     0.973545  0.862219\n",
       "      500     0.941590  0.861493\n",
       "lasso 0       1.000000  0.379258\n",
       "      1       0.959784  0.866054\n",
       "      5       0.926956  0.878112\n",
       "      10      0.920004  0.872615\n",
       "      50      0.797404  0.744531\n",
       "      100     0.509634  0.418049\n",
       "      500     0.000000 -0.120880"
      ]
     },
     "execution_count": 7,
     "metadata": {},
     "output_type": "execute_result"
    }
   ],
   "source": [
    "pd.concat([iss.mean(axis=1), oss.mean(axis=1)], axis=1, keys=['In', 'Out'])"
   ]
  },
  {
   "cell_type": "code",
   "execution_count": null,
   "id": "ceramic-cuisine",
   "metadata": {},
   "outputs": [],
   "source": []
  }
 ],
 "metadata": {
  "kernelspec": {
   "display_name": "Python 3",
   "language": "python",
   "name": "python3"
  },
  "language_info": {
   "codemirror_mode": {
    "name": "ipython",
    "version": 3
   },
   "file_extension": ".py",
   "mimetype": "text/x-python",
   "name": "python",
   "nbconvert_exporter": "python",
   "pygments_lexer": "ipython3",
   "version": "3.8.5"
  }
 },
 "nbformat": 4,
 "nbformat_minor": 5
}
